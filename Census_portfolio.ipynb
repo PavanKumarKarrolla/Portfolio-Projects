{
  "nbformat": 4,
  "nbformat_minor": 0,
  "metadata": {
    "colab": {
      "provenance": []
    },
    "kernelspec": {
      "name": "python3",
      "display_name": "Python 3"
    },
    "language_info": {
      "name": "python"
    }
  },
  "cells": [
    {
      "cell_type": "markdown",
      "source": [
        "A sample data for the kind of data you need to download for your chosen district can be found here: https://censusindia.gov.in/nada/index.php/catalog/41020 This link will take you to the Primary Census Abstract, block wise for Haora district in West Bengal. The downloaded data will be as an excel file. The meaning of the columns in the excel file will also be available in the web link for the chosen district. For example, the link given above contains the meaning of the column names in the downloaded excel file for Haora district in West Bengal. You need to download such Primary Census Abstract for your randomly selected districts for your selected state. Once you have downloaded the data for your districts, you have to perform data visualisations of the following. \\\\\n",
        "#Summary of broad characteristics:  \n",
        "Distribution of the population by rural/urban \\\\\n",
        "Distribution of population by gender \\\\\n",
        "Distribution of the population by caste \\\\\n",
        "Distribution of population of occupation \\\\\n",
        "#Crosstabulation/Conditional distributions of the population \n",
        "Distribution of occupation type by gender by block \\\\\n",
        "Distribution of literacy by rural/urban \\\\\n",
        "Distribution of literacy by gender \\\\\n",
        "For all those places, classified as urban, distribution of literacy by gender \\\\\n",
        " \n",
        "\n",
        "The state I selected here is 'Kerala' and the district is Thrissur. \n",
        "\n",
        "[This is the dataset I have taken](https://docs.google.com/spreadsheets/d/1GL4VKIXKnCPHjBseFx-GZI4f6AOn5LZKsQvOLwjANls/edit#gid=1992251460) \n",
        "\n",
        "or  [ You can access the data here](https://docs.google.com/spreadsheets/d/1GL4VKIXKnCPHjBseFx-GZI4f6AOn5LZKsQvOLwjANls/edit?usp=sharing)\n"
      ],
      "metadata": {
        "id": "2dZxeuE8FhuI"
      }
    },
    {
      "cell_type": "code",
      "execution_count": 93,
      "metadata": {
        "id": "No0ikelwFbzD"
      },
      "outputs": [],
      "source": [
        "import pandas as pd\n",
        "import matplotlib.pyplot as plt\n",
        "import numpy as np\n",
        "import seaborn as sns\n",
        "\n",
        "Thrissur = pd.read_excel('PCA_CDB-3207-F-Census.xlsx')\n"
      ]
    },
    {
      "cell_type": "code",
      "source": [
        "Thrissur.head()"
      ],
      "metadata": {
        "colab": {
          "base_uri": "https://localhost:8080/",
          "height": 386
        },
        "id": "-AvMTS9tLA4b",
        "outputId": "4adf70ad-c5ef-4806-e6f6-ae858b53ff85"
      },
      "execution_count": 94,
      "outputs": [
        {
          "output_type": "execute_result",
          "data": {
            "text/plain": [
              "   State  District   DT Name  CD Block  Town/Village  Ward  EB     Level  \\\n",
              "0     32       594  Thrissur        56             0     0   0  CD BLOCK   \n",
              "1     32       594  Thrissur        56             0     0   0  CD BLOCK   \n",
              "2     32       594  Thrissur        56             0     0   0  CD BLOCK   \n",
              "3     32       594  Thrissur        56        627714     0   0   VILLAGE   \n",
              "4     32       594  Thrissur        56        627736     0   0   VILLAGE   \n",
              "\n",
              "                Name    TRU  ...  MARG_AL_0_3_F  MARG_HH_0_3_P  MARG_HH_0_3_M  \\\n",
              "0         Chowwannur  Total  ...             48             33              9   \n",
              "1         Chowwannur  Rural  ...             11              8              4   \n",
              "2         Chowwannur  Urban  ...             37             25              5   \n",
              "3        Perumpilavu  Rural  ...              2              7              4   \n",
              "4  Chowwannur (Part)  Rural  ...              3              0              0   \n",
              "\n",
              "   MARG_HH_0_3_F  MARG_OT_0_3_P  MARG_OT_0_3_M  MARG_OT_0_3_F  NON_WORK_P  \\\n",
              "0             24            807            377            430      103446   \n",
              "1              4            196             91            105       20384   \n",
              "2             20            611            286            325       83062   \n",
              "3              3             96             52             44        6795   \n",
              "4              0             15             11              4        4578   \n",
              "\n",
              "   NON_WORK_M  NON_WORK_F  \n",
              "0       34965       68481  \n",
              "1        6788       13596  \n",
              "2       28177       54885  \n",
              "3        2329        4466  \n",
              "4        1451        3127  \n",
              "\n",
              "[5 rows x 95 columns]"
            ],
            "text/html": [
              "\n",
              "  <div id=\"df-acc6e6b1-cab7-4b54-94ed-daaebbb59d01\">\n",
              "    <div class=\"colab-df-container\">\n",
              "      <div>\n",
              "<style scoped>\n",
              "    .dataframe tbody tr th:only-of-type {\n",
              "        vertical-align: middle;\n",
              "    }\n",
              "\n",
              "    .dataframe tbody tr th {\n",
              "        vertical-align: top;\n",
              "    }\n",
              "\n",
              "    .dataframe thead th {\n",
              "        text-align: right;\n",
              "    }\n",
              "</style>\n",
              "<table border=\"1\" class=\"dataframe\">\n",
              "  <thead>\n",
              "    <tr style=\"text-align: right;\">\n",
              "      <th></th>\n",
              "      <th>State</th>\n",
              "      <th>District</th>\n",
              "      <th>DT Name</th>\n",
              "      <th>CD Block</th>\n",
              "      <th>Town/Village</th>\n",
              "      <th>Ward</th>\n",
              "      <th>EB</th>\n",
              "      <th>Level</th>\n",
              "      <th>Name</th>\n",
              "      <th>TRU</th>\n",
              "      <th>...</th>\n",
              "      <th>MARG_AL_0_3_F</th>\n",
              "      <th>MARG_HH_0_3_P</th>\n",
              "      <th>MARG_HH_0_3_M</th>\n",
              "      <th>MARG_HH_0_3_F</th>\n",
              "      <th>MARG_OT_0_3_P</th>\n",
              "      <th>MARG_OT_0_3_M</th>\n",
              "      <th>MARG_OT_0_3_F</th>\n",
              "      <th>NON_WORK_P</th>\n",
              "      <th>NON_WORK_M</th>\n",
              "      <th>NON_WORK_F</th>\n",
              "    </tr>\n",
              "  </thead>\n",
              "  <tbody>\n",
              "    <tr>\n",
              "      <th>0</th>\n",
              "      <td>32</td>\n",
              "      <td>594</td>\n",
              "      <td>Thrissur</td>\n",
              "      <td>56</td>\n",
              "      <td>0</td>\n",
              "      <td>0</td>\n",
              "      <td>0</td>\n",
              "      <td>CD BLOCK</td>\n",
              "      <td>Chowwannur</td>\n",
              "      <td>Total</td>\n",
              "      <td>...</td>\n",
              "      <td>48</td>\n",
              "      <td>33</td>\n",
              "      <td>9</td>\n",
              "      <td>24</td>\n",
              "      <td>807</td>\n",
              "      <td>377</td>\n",
              "      <td>430</td>\n",
              "      <td>103446</td>\n",
              "      <td>34965</td>\n",
              "      <td>68481</td>\n",
              "    </tr>\n",
              "    <tr>\n",
              "      <th>1</th>\n",
              "      <td>32</td>\n",
              "      <td>594</td>\n",
              "      <td>Thrissur</td>\n",
              "      <td>56</td>\n",
              "      <td>0</td>\n",
              "      <td>0</td>\n",
              "      <td>0</td>\n",
              "      <td>CD BLOCK</td>\n",
              "      <td>Chowwannur</td>\n",
              "      <td>Rural</td>\n",
              "      <td>...</td>\n",
              "      <td>11</td>\n",
              "      <td>8</td>\n",
              "      <td>4</td>\n",
              "      <td>4</td>\n",
              "      <td>196</td>\n",
              "      <td>91</td>\n",
              "      <td>105</td>\n",
              "      <td>20384</td>\n",
              "      <td>6788</td>\n",
              "      <td>13596</td>\n",
              "    </tr>\n",
              "    <tr>\n",
              "      <th>2</th>\n",
              "      <td>32</td>\n",
              "      <td>594</td>\n",
              "      <td>Thrissur</td>\n",
              "      <td>56</td>\n",
              "      <td>0</td>\n",
              "      <td>0</td>\n",
              "      <td>0</td>\n",
              "      <td>CD BLOCK</td>\n",
              "      <td>Chowwannur</td>\n",
              "      <td>Urban</td>\n",
              "      <td>...</td>\n",
              "      <td>37</td>\n",
              "      <td>25</td>\n",
              "      <td>5</td>\n",
              "      <td>20</td>\n",
              "      <td>611</td>\n",
              "      <td>286</td>\n",
              "      <td>325</td>\n",
              "      <td>83062</td>\n",
              "      <td>28177</td>\n",
              "      <td>54885</td>\n",
              "    </tr>\n",
              "    <tr>\n",
              "      <th>3</th>\n",
              "      <td>32</td>\n",
              "      <td>594</td>\n",
              "      <td>Thrissur</td>\n",
              "      <td>56</td>\n",
              "      <td>627714</td>\n",
              "      <td>0</td>\n",
              "      <td>0</td>\n",
              "      <td>VILLAGE</td>\n",
              "      <td>Perumpilavu</td>\n",
              "      <td>Rural</td>\n",
              "      <td>...</td>\n",
              "      <td>2</td>\n",
              "      <td>7</td>\n",
              "      <td>4</td>\n",
              "      <td>3</td>\n",
              "      <td>96</td>\n",
              "      <td>52</td>\n",
              "      <td>44</td>\n",
              "      <td>6795</td>\n",
              "      <td>2329</td>\n",
              "      <td>4466</td>\n",
              "    </tr>\n",
              "    <tr>\n",
              "      <th>4</th>\n",
              "      <td>32</td>\n",
              "      <td>594</td>\n",
              "      <td>Thrissur</td>\n",
              "      <td>56</td>\n",
              "      <td>627736</td>\n",
              "      <td>0</td>\n",
              "      <td>0</td>\n",
              "      <td>VILLAGE</td>\n",
              "      <td>Chowwannur (Part)</td>\n",
              "      <td>Rural</td>\n",
              "      <td>...</td>\n",
              "      <td>3</td>\n",
              "      <td>0</td>\n",
              "      <td>0</td>\n",
              "      <td>0</td>\n",
              "      <td>15</td>\n",
              "      <td>11</td>\n",
              "      <td>4</td>\n",
              "      <td>4578</td>\n",
              "      <td>1451</td>\n",
              "      <td>3127</td>\n",
              "    </tr>\n",
              "  </tbody>\n",
              "</table>\n",
              "<p>5 rows × 95 columns</p>\n",
              "</div>\n",
              "      <button class=\"colab-df-convert\" onclick=\"convertToInteractive('df-acc6e6b1-cab7-4b54-94ed-daaebbb59d01')\"\n",
              "              title=\"Convert this dataframe to an interactive table.\"\n",
              "              style=\"display:none;\">\n",
              "        \n",
              "  <svg xmlns=\"http://www.w3.org/2000/svg\" height=\"24px\"viewBox=\"0 0 24 24\"\n",
              "       width=\"24px\">\n",
              "    <path d=\"M0 0h24v24H0V0z\" fill=\"none\"/>\n",
              "    <path d=\"M18.56 5.44l.94 2.06.94-2.06 2.06-.94-2.06-.94-.94-2.06-.94 2.06-2.06.94zm-11 1L8.5 8.5l.94-2.06 2.06-.94-2.06-.94L8.5 2.5l-.94 2.06-2.06.94zm10 10l.94 2.06.94-2.06 2.06-.94-2.06-.94-.94-2.06-.94 2.06-2.06.94z\"/><path d=\"M17.41 7.96l-1.37-1.37c-.4-.4-.92-.59-1.43-.59-.52 0-1.04.2-1.43.59L10.3 9.45l-7.72 7.72c-.78.78-.78 2.05 0 2.83L4 21.41c.39.39.9.59 1.41.59.51 0 1.02-.2 1.41-.59l7.78-7.78 2.81-2.81c.8-.78.8-2.07 0-2.86zM5.41 20L4 18.59l7.72-7.72 1.47 1.35L5.41 20z\"/>\n",
              "  </svg>\n",
              "      </button>\n",
              "      \n",
              "  <style>\n",
              "    .colab-df-container {\n",
              "      display:flex;\n",
              "      flex-wrap:wrap;\n",
              "      gap: 12px;\n",
              "    }\n",
              "\n",
              "    .colab-df-convert {\n",
              "      background-color: #E8F0FE;\n",
              "      border: none;\n",
              "      border-radius: 50%;\n",
              "      cursor: pointer;\n",
              "      display: none;\n",
              "      fill: #1967D2;\n",
              "      height: 32px;\n",
              "      padding: 0 0 0 0;\n",
              "      width: 32px;\n",
              "    }\n",
              "\n",
              "    .colab-df-convert:hover {\n",
              "      background-color: #E2EBFA;\n",
              "      box-shadow: 0px 1px 2px rgba(60, 64, 67, 0.3), 0px 1px 3px 1px rgba(60, 64, 67, 0.15);\n",
              "      fill: #174EA6;\n",
              "    }\n",
              "\n",
              "    [theme=dark] .colab-df-convert {\n",
              "      background-color: #3B4455;\n",
              "      fill: #D2E3FC;\n",
              "    }\n",
              "\n",
              "    [theme=dark] .colab-df-convert:hover {\n",
              "      background-color: #434B5C;\n",
              "      box-shadow: 0px 1px 3px 1px rgba(0, 0, 0, 0.15);\n",
              "      filter: drop-shadow(0px 1px 2px rgba(0, 0, 0, 0.3));\n",
              "      fill: #FFFFFF;\n",
              "    }\n",
              "  </style>\n",
              "\n",
              "      <script>\n",
              "        const buttonEl =\n",
              "          document.querySelector('#df-acc6e6b1-cab7-4b54-94ed-daaebbb59d01 button.colab-df-convert');\n",
              "        buttonEl.style.display =\n",
              "          google.colab.kernel.accessAllowed ? 'block' : 'none';\n",
              "\n",
              "        async function convertToInteractive(key) {\n",
              "          const element = document.querySelector('#df-acc6e6b1-cab7-4b54-94ed-daaebbb59d01');\n",
              "          const dataTable =\n",
              "            await google.colab.kernel.invokeFunction('convertToInteractive',\n",
              "                                                     [key], {});\n",
              "          if (!dataTable) return;\n",
              "\n",
              "          const docLinkHtml = 'Like what you see? Visit the ' +\n",
              "            '<a target=\"_blank\" href=https://colab.research.google.com/notebooks/data_table.ipynb>data table notebook</a>'\n",
              "            + ' to learn more about interactive tables.';\n",
              "          element.innerHTML = '';\n",
              "          dataTable['output_type'] = 'display_data';\n",
              "          await google.colab.output.renderOutput(dataTable, element);\n",
              "          const docLink = document.createElement('div');\n",
              "          docLink.innerHTML = docLinkHtml;\n",
              "          element.appendChild(docLink);\n",
              "        }\n",
              "      </script>\n",
              "    </div>\n",
              "  </div>\n",
              "  "
            ]
          },
          "metadata": {},
          "execution_count": 94
        }
      ]
    },
    {
      "cell_type": "code",
      "source": [
        "#lets see if there are any missing data\n",
        "\n",
        "for col in Thrissur.columns:\n",
        "  prcnt_missing=np.mean(Thrissur[col].isnull())\n",
        "  print('{} - {}%'.format(col, prcnt_missing ))\n",
        "\n",
        "#So we found everything as 0%. Therefore there is no missing data\n",
        "\n"
      ],
      "metadata": {
        "colab": {
          "base_uri": "https://localhost:8080/"
        },
        "id": "i2EAlJ__LJaZ",
        "outputId": "6c37b367-020c-4375-bd1f-8a576f053687"
      },
      "execution_count": 95,
      "outputs": [
        {
          "output_type": "stream",
          "name": "stdout",
          "text": [
            "State - 0.0%\n",
            "District - 0.0%\n",
            "DT Name - 0.0%\n",
            "CD Block - 0.0%\n",
            "Town/Village - 0.0%\n",
            "Ward - 0.0%\n",
            "EB - 0.0%\n",
            "Level - 0.0%\n",
            "Name - 0.0%\n",
            "TRU - 0.0%\n",
            "No_HH - 0.0%\n",
            "TOT_P - 0.0%\n",
            "TOT_M - 0.0%\n",
            "TOT_F - 0.0%\n",
            "P_06 - 0.0%\n",
            "M_06 - 0.0%\n",
            "F_06 - 0.0%\n",
            "P_SC - 0.0%\n",
            "M_SC - 0.0%\n",
            "F_SC - 0.0%\n",
            "P_ST - 0.0%\n",
            "M_ST - 0.0%\n",
            "F_ST - 0.0%\n",
            "P_LIT - 0.0%\n",
            "M_LIT - 0.0%\n",
            "F_LIT - 0.0%\n",
            "P_ILL - 0.0%\n",
            "M_ILL - 0.0%\n",
            "F_ILL - 0.0%\n",
            "TOT_WORK_P - 0.0%\n",
            "TOT_WORK_M - 0.0%\n",
            "TOT_WORK_F - 0.0%\n",
            "MAINWORK_P - 0.0%\n",
            "MAINWORK_M - 0.0%\n",
            "MAINWORK_F - 0.0%\n",
            "MAIN_CL_P - 0.0%\n",
            "MAIN_CL_M - 0.0%\n",
            "MAIN_CL_F - 0.0%\n",
            "MAIN_AL_P - 0.0%\n",
            "MAIN_AL_M - 0.0%\n",
            "MAIN_AL_F - 0.0%\n",
            "MAIN_HH_P - 0.0%\n",
            "MAIN_HH_M - 0.0%\n",
            "MAIN_HH_F - 0.0%\n",
            "MAIN_OT_P - 0.0%\n",
            "MAIN_OT_M - 0.0%\n",
            "MAIN_OT_F - 0.0%\n",
            "MARGWORK_P - 0.0%\n",
            "MARGWORK_M - 0.0%\n",
            "MARGWORK_F - 0.0%\n",
            "MARG_CL_P - 0.0%\n",
            "MARG_CL_M - 0.0%\n",
            "MARG_CL_F - 0.0%\n",
            "MARG_AL_P - 0.0%\n",
            "MARG_AL_M - 0.0%\n",
            "MARG_AL_F - 0.0%\n",
            "MARG_HH_P - 0.0%\n",
            "MARG_HH_M - 0.0%\n",
            "MARG_HH_F - 0.0%\n",
            "MARG_OT_P - 0.0%\n",
            "MARG_OT_M - 0.0%\n",
            "MARG_OT_F - 0.0%\n",
            "MARGWORK_3_6_P - 0.0%\n",
            "MARGWORK_3_6_M - 0.0%\n",
            "MARGWORK_3_6_F - 0.0%\n",
            "MARG_CL_3_6_P - 0.0%\n",
            "MARG_CL_3_6_M - 0.0%\n",
            "MARG_CL_3_6_F - 0.0%\n",
            "MARG_AL_3_6_P - 0.0%\n",
            "MARG_AL_3_6_M - 0.0%\n",
            "MARG_AL_3_6_F - 0.0%\n",
            "MARG_HH_3_6_P - 0.0%\n",
            "MARG_HH_3_6_M - 0.0%\n",
            "MARG_HH_3_6_F - 0.0%\n",
            "MARG_OT_3_6_P - 0.0%\n",
            "MARG_OT_3_6_M - 0.0%\n",
            "MARG_OT_3_6_F - 0.0%\n",
            "MARGWORK_0_3_P - 0.0%\n",
            "MARGWORK_0_3_M - 0.0%\n",
            "MARGWORK_0_3_F - 0.0%\n",
            "MARG_CL_0_3_P - 0.0%\n",
            "MARG_CL_0_3_M - 0.0%\n",
            "MARG_CL_0_3_F - 0.0%\n",
            "MARG_AL_0_3_P - 0.0%\n",
            "MARG_AL_0_3_M - 0.0%\n",
            "MARG_AL_0_3_F - 0.0%\n",
            "MARG_HH_0_3_P - 0.0%\n",
            "MARG_HH_0_3_M - 0.0%\n",
            "MARG_HH_0_3_F - 0.0%\n",
            "MARG_OT_0_3_P - 0.0%\n",
            "MARG_OT_0_3_M - 0.0%\n",
            "MARG_OT_0_3_F - 0.0%\n",
            "NON_WORK_P - 0.0%\n",
            "NON_WORK_M - 0.0%\n",
            "NON_WORK_F - 0.0%\n"
          ]
        }
      ]
    },
    {
      "cell_type": "markdown",
      "source": [
        "#Distribution of the population by rural/urban"
      ],
      "metadata": {
        "id": "EWkV-9FQJiqe"
      }
    },
    {
      "cell_type": "code",
      "source": [
        "dfr=Thrissur[Thrissur['TRU']=='Rural']\n",
        "dfu=Thrissur[Thrissur['TRU']=='Urban']\n",
        "\n",
        "Rural_p=dfr['TOT_P'].sum()/2  #we divided the sum by 2 otherwise it will include the total rural population \n",
        "Urban_p=dfu['TOT_P'].sum()/2\n"
      ],
      "metadata": {
        "id": "MaEETw5FJpoM"
      },
      "execution_count": 96,
      "outputs": []
    },
    {
      "cell_type": "code",
      "source": [
        "#lets create a dataframe with the above output\n",
        "\n",
        "data_R_U=[['Rural',Rural_p],['Urban',Urban_p]] \n",
        "df_R_U = pd.DataFrame(data_R_U, columns=['Area', 'Population(in millions)'])\n",
        "\n",
        "df_R_U.head()"
      ],
      "metadata": {
        "colab": {
          "base_uri": "https://localhost:8080/",
          "height": 112
        },
        "id": "Q3sUn9CUNucR",
        "outputId": "abd58c91-02ed-4929-ce83-96b6d03fe8e1"
      },
      "execution_count": 97,
      "outputs": [
        {
          "output_type": "execute_result",
          "data": {
            "text/plain": [
              "    Area  Population(in millions)\n",
              "0  Rural                1024794.0\n",
              "1  Urban                1554569.0"
            ],
            "text/html": [
              "\n",
              "  <div id=\"df-8f892942-c2c3-4da8-bc16-8b9a438f3bb6\">\n",
              "    <div class=\"colab-df-container\">\n",
              "      <div>\n",
              "<style scoped>\n",
              "    .dataframe tbody tr th:only-of-type {\n",
              "        vertical-align: middle;\n",
              "    }\n",
              "\n",
              "    .dataframe tbody tr th {\n",
              "        vertical-align: top;\n",
              "    }\n",
              "\n",
              "    .dataframe thead th {\n",
              "        text-align: right;\n",
              "    }\n",
              "</style>\n",
              "<table border=\"1\" class=\"dataframe\">\n",
              "  <thead>\n",
              "    <tr style=\"text-align: right;\">\n",
              "      <th></th>\n",
              "      <th>Area</th>\n",
              "      <th>Population(in millions)</th>\n",
              "    </tr>\n",
              "  </thead>\n",
              "  <tbody>\n",
              "    <tr>\n",
              "      <th>0</th>\n",
              "      <td>Rural</td>\n",
              "      <td>1024794.0</td>\n",
              "    </tr>\n",
              "    <tr>\n",
              "      <th>1</th>\n",
              "      <td>Urban</td>\n",
              "      <td>1554569.0</td>\n",
              "    </tr>\n",
              "  </tbody>\n",
              "</table>\n",
              "</div>\n",
              "      <button class=\"colab-df-convert\" onclick=\"convertToInteractive('df-8f892942-c2c3-4da8-bc16-8b9a438f3bb6')\"\n",
              "              title=\"Convert this dataframe to an interactive table.\"\n",
              "              style=\"display:none;\">\n",
              "        \n",
              "  <svg xmlns=\"http://www.w3.org/2000/svg\" height=\"24px\"viewBox=\"0 0 24 24\"\n",
              "       width=\"24px\">\n",
              "    <path d=\"M0 0h24v24H0V0z\" fill=\"none\"/>\n",
              "    <path d=\"M18.56 5.44l.94 2.06.94-2.06 2.06-.94-2.06-.94-.94-2.06-.94 2.06-2.06.94zm-11 1L8.5 8.5l.94-2.06 2.06-.94-2.06-.94L8.5 2.5l-.94 2.06-2.06.94zm10 10l.94 2.06.94-2.06 2.06-.94-2.06-.94-.94-2.06-.94 2.06-2.06.94z\"/><path d=\"M17.41 7.96l-1.37-1.37c-.4-.4-.92-.59-1.43-.59-.52 0-1.04.2-1.43.59L10.3 9.45l-7.72 7.72c-.78.78-.78 2.05 0 2.83L4 21.41c.39.39.9.59 1.41.59.51 0 1.02-.2 1.41-.59l7.78-7.78 2.81-2.81c.8-.78.8-2.07 0-2.86zM5.41 20L4 18.59l7.72-7.72 1.47 1.35L5.41 20z\"/>\n",
              "  </svg>\n",
              "      </button>\n",
              "      \n",
              "  <style>\n",
              "    .colab-df-container {\n",
              "      display:flex;\n",
              "      flex-wrap:wrap;\n",
              "      gap: 12px;\n",
              "    }\n",
              "\n",
              "    .colab-df-convert {\n",
              "      background-color: #E8F0FE;\n",
              "      border: none;\n",
              "      border-radius: 50%;\n",
              "      cursor: pointer;\n",
              "      display: none;\n",
              "      fill: #1967D2;\n",
              "      height: 32px;\n",
              "      padding: 0 0 0 0;\n",
              "      width: 32px;\n",
              "    }\n",
              "\n",
              "    .colab-df-convert:hover {\n",
              "      background-color: #E2EBFA;\n",
              "      box-shadow: 0px 1px 2px rgba(60, 64, 67, 0.3), 0px 1px 3px 1px rgba(60, 64, 67, 0.15);\n",
              "      fill: #174EA6;\n",
              "    }\n",
              "\n",
              "    [theme=dark] .colab-df-convert {\n",
              "      background-color: #3B4455;\n",
              "      fill: #D2E3FC;\n",
              "    }\n",
              "\n",
              "    [theme=dark] .colab-df-convert:hover {\n",
              "      background-color: #434B5C;\n",
              "      box-shadow: 0px 1px 3px 1px rgba(0, 0, 0, 0.15);\n",
              "      filter: drop-shadow(0px 1px 2px rgba(0, 0, 0, 0.3));\n",
              "      fill: #FFFFFF;\n",
              "    }\n",
              "  </style>\n",
              "\n",
              "      <script>\n",
              "        const buttonEl =\n",
              "          document.querySelector('#df-8f892942-c2c3-4da8-bc16-8b9a438f3bb6 button.colab-df-convert');\n",
              "        buttonEl.style.display =\n",
              "          google.colab.kernel.accessAllowed ? 'block' : 'none';\n",
              "\n",
              "        async function convertToInteractive(key) {\n",
              "          const element = document.querySelector('#df-8f892942-c2c3-4da8-bc16-8b9a438f3bb6');\n",
              "          const dataTable =\n",
              "            await google.colab.kernel.invokeFunction('convertToInteractive',\n",
              "                                                     [key], {});\n",
              "          if (!dataTable) return;\n",
              "\n",
              "          const docLinkHtml = 'Like what you see? Visit the ' +\n",
              "            '<a target=\"_blank\" href=https://colab.research.google.com/notebooks/data_table.ipynb>data table notebook</a>'\n",
              "            + ' to learn more about interactive tables.';\n",
              "          element.innerHTML = '';\n",
              "          dataTable['output_type'] = 'display_data';\n",
              "          await google.colab.output.renderOutput(dataTable, element);\n",
              "          const docLink = document.createElement('div');\n",
              "          docLink.innerHTML = docLinkHtml;\n",
              "          element.appendChild(docLink);\n",
              "        }\n",
              "      </script>\n",
              "    </div>\n",
              "  </div>\n",
              "  "
            ]
          },
          "metadata": {},
          "execution_count": 97
        }
      ]
    },
    {
      "cell_type": "code",
      "source": [
        "#Now lets plot this data as a bar graph\n",
        "\n",
        "sns.barplot(x='Area', y='Population(in millions)',data=df_R_U)\n",
        "plt.title('Distribution of poulation by Rural/Urban',fontweight='bold',y=1.08)\n",
        "plt.xlabel('Area of Residence',fontweight='bold')\n",
        "plt.ylabel('Population(in millions)',fontweight='bold')"
      ],
      "metadata": {
        "colab": {
          "base_uri": "https://localhost:8080/",
          "height": 331
        },
        "id": "B3OCN-ZZOAvY",
        "outputId": "718cdde1-a818-4ae2-b3be-0b39b811f523"
      },
      "execution_count": 98,
      "outputs": [
        {
          "output_type": "execute_result",
          "data": {
            "text/plain": [
              "Text(0, 0.5, 'Population(in millions)')"
            ]
          },
          "metadata": {},
          "execution_count": 98
        },
        {
          "output_type": "display_data",
          "data": {
            "text/plain": [
              "<Figure size 432x288 with 1 Axes>"
            ],
            "image/png": "[encoded data removed]"
          },
          "metadata": {
            "needs_background": "light"
          }
        }
      ]
    },
    {
      "cell_type": "markdown",
      "source": [
        "#Distribution of population by gender\n"
      ],
      "metadata": {
        "id": "jn65H-R1OVuF"
      }
    },
    {
      "cell_type": "code",
      "source": [
        "df_gender=Thrissur[Thrissur['TRU']=='Total']\n",
        "\n",
        "M_p=df_gender['TOT_M'].sum()\n",
        "F_p=df_gender['TOT_F'].sum()\n",
        "\n",
        "#Now lets create a dataframe with the above data\n",
        "\n",
        "data_gender=[['Male',M_p],['Female',F_p]] \n",
        "df_g = pd.DataFrame(data_gender, columns=['Gender', 'Population(in millions)'])\n",
        "\n",
        "df_g.head()"
      ],
      "metadata": {
        "colab": {
          "base_uri": "https://localhost:8080/",
          "height": 112
        },
        "id": "xqcDUs3NOUdp",
        "outputId": "48cfcd82-1b7b-43e1-c27b-c609f0b344bc"
      },
      "execution_count": 99,
      "outputs": [
        {
          "output_type": "execute_result",
          "data": {
            "text/plain": [
              "   Gender  Population(in millions)\n",
              "0    Male                  1222461\n",
              "1  Female                  1356902"
            ],
            "text/html": [
              "\n",
              "  <div id=\"df-92bb1df3-faa5-4f4f-8ae4-bb3b4020622f\">\n",
              "    <div class=\"colab-df-container\">\n",
              "      <div>\n",
              "<style scoped>\n",
              "    .dataframe tbody tr th:only-of-type {\n",
              "        vertical-align: middle;\n",
              "    }\n",
              "\n",
              "    .dataframe tbody tr th {\n",
              "        vertical-align: top;\n",
              "    }\n",
              "\n",
              "    .dataframe thead th {\n",
              "        text-align: right;\n",
              "    }\n",
              "</style>\n",
              "<table border=\"1\" class=\"dataframe\">\n",
              "  <thead>\n",
              "    <tr style=\"text-align: right;\">\n",
              "      <th></th>\n",
              "      <th>Gender</th>\n",
              "      <th>Population(in millions)</th>\n",
              "    </tr>\n",
              "  </thead>\n",
              "  <tbody>\n",
              "    <tr>\n",
              "      <th>0</th>\n",
              "      <td>Male</td>\n",
              "      <td>1222461</td>\n",
              "    </tr>\n",
              "    <tr>\n",
              "      <th>1</th>\n",
              "      <td>Female</td>\n",
              "      <td>1356902</td>\n",
              "    </tr>\n",
              "  </tbody>\n",
              "</table>\n",
              "</div>\n",
              "      <button class=\"colab-df-convert\" onclick=\"convertToInteractive('df-92bb1df3-faa5-4f4f-8ae4-bb3b4020622f')\"\n",
              "              title=\"Convert this dataframe to an interactive table.\"\n",
              "              style=\"display:none;\">\n",
              "        \n",
              "  <svg xmlns=\"http://www.w3.org/2000/svg\" height=\"24px\"viewBox=\"0 0 24 24\"\n",
              "       width=\"24px\">\n",
              "    <path d=\"M0 0h24v24H0V0z\" fill=\"none\"/>\n",
              "    <path d=\"M18.56 5.44l.94 2.06.94-2.06 2.06-.94-2.06-.94-.94-2.06-.94 2.06-2.06.94zm-11 1L8.5 8.5l.94-2.06 2.06-.94-2.06-.94L8.5 2.5l-.94 2.06-2.06.94zm10 10l.94 2.06.94-2.06 2.06-.94-2.06-.94-.94-2.06-.94 2.06-2.06.94z\"/><path d=\"M17.41 7.96l-1.37-1.37c-.4-.4-.92-.59-1.43-.59-.52 0-1.04.2-1.43.59L10.3 9.45l-7.72 7.72c-.78.78-.78 2.05 0 2.83L4 21.41c.39.39.9.59 1.41.59.51 0 1.02-.2 1.41-.59l7.78-7.78 2.81-2.81c.8-.78.8-2.07 0-2.86zM5.41 20L4 18.59l7.72-7.72 1.47 1.35L5.41 20z\"/>\n",
              "  </svg>\n",
              "      </button>\n",
              "      \n",
              "  <style>\n",
              "    .colab-df-container {\n",
              "      display:flex;\n",
              "      flex-wrap:wrap;\n",
              "      gap: 12px;\n",
              "    }\n",
              "\n",
              "    .colab-df-convert {\n",
              "      background-color: #E8F0FE;\n",
              "      border: none;\n",
              "      border-radius: 50%;\n",
              "      cursor: pointer;\n",
              "      display: none;\n",
              "      fill: #1967D2;\n",
              "      height: 32px;\n",
              "      padding: 0 0 0 0;\n",
              "      width: 32px;\n",
              "    }\n",
              "\n",
              "    .colab-df-convert:hover {\n",
              "      background-color: #E2EBFA;\n",
              "      box-shadow: 0px 1px 2px rgba(60, 64, 67, 0.3), 0px 1px 3px 1px rgba(60, 64, 67, 0.15);\n",
              "      fill: #174EA6;\n",
              "    }\n",
              "\n",
              "    [theme=dark] .colab-df-convert {\n",
              "      background-color: #3B4455;\n",
              "      fill: #D2E3FC;\n",
              "    }\n",
              "\n",
              "    [theme=dark] .colab-df-convert:hover {\n",
              "      background-color: #434B5C;\n",
              "      box-shadow: 0px 1px 3px 1px rgba(0, 0, 0, 0.15);\n",
              "      filter: drop-shadow(0px 1px 2px rgba(0, 0, 0, 0.3));\n",
              "      fill: #FFFFFF;\n",
              "    }\n",
              "  </style>\n",
              "\n",
              "      <script>\n",
              "        const buttonEl =\n",
              "          document.querySelector('#df-92bb1df3-faa5-4f4f-8ae4-bb3b4020622f button.colab-df-convert');\n",
              "        buttonEl.style.display =\n",
              "          google.colab.kernel.accessAllowed ? 'block' : 'none';\n",
              "\n",
              "        async function convertToInteractive(key) {\n",
              "          const element = document.querySelector('#df-92bb1df3-faa5-4f4f-8ae4-bb3b4020622f');\n",
              "          const dataTable =\n",
              "            await google.colab.kernel.invokeFunction('convertToInteractive',\n",
              "                                                     [key], {});\n",
              "          if (!dataTable) return;\n",
              "\n",
              "          const docLinkHtml = 'Like what you see? Visit the ' +\n",
              "            '<a target=\"_blank\" href=https://colab.research.google.com/notebooks/data_table.ipynb>data table notebook</a>'\n",
              "            + ' to learn more about interactive tables.';\n",
              "          element.innerHTML = '';\n",
              "          dataTable['output_type'] = 'display_data';\n",
              "          await google.colab.output.renderOutput(dataTable, element);\n",
              "          const docLink = document.createElement('div');\n",
              "          docLink.innerHTML = docLinkHtml;\n",
              "          element.appendChild(docLink);\n",
              "        }\n",
              "      </script>\n",
              "    </div>\n",
              "  </div>\n",
              "  "
            ]
          },
          "metadata": {},
          "execution_count": 99
        }
      ]
    },
    {
      "cell_type": "code",
      "source": [
        "#lets plot the above data as bar graph\n",
        "sns.barplot(x='Gender', y='Population(in millions)',data=df_g)\n",
        "plt.title('Distribution of poulation by Gender',fontweight='bold',y=1.08)\n",
        "plt.xlabel('Gender',fontweight='bold')\n",
        "plt.ylabel('Population(in millions)',fontweight='bold')"
      ],
      "metadata": {
        "colab": {
          "base_uri": "https://localhost:8080/",
          "height": 331
        },
        "id": "M1ahv01LPKEo",
        "outputId": "c83cc73d-693e-4ff4-ce75-52730db4c72b"
      },
      "execution_count": 100,
      "outputs": [
        {
          "output_type": "execute_result",
          "data": {
            "text/plain": [
              "Text(0, 0.5, 'Population(in millions)')"
            ]
          },
          "metadata": {},
          "execution_count": 100
        },
        {
          "output_type": "display_data",
          "data": {
            "text/plain": [
              "<Figure size 432x288 with 1 Axes>"
            ],
            "image/png": "[encoded data removed]"
          },
          "metadata": {
            "needs_background": "light"
          }
        }
      ]
    },
    {
      "cell_type": "markdown",
      "source": [
        "#Distribution of the population by caste \n"
      ],
      "metadata": {
        "id": "YBfpQx5CPvS8"
      }
    },
    {
      "cell_type": "code",
      "source": [
        "SC_p=df_gender['P_SC'].sum()\n",
        "ST_p=df_gender['P_ST'].sum()\n",
        "Total_P=df_gender['TOT_P'].sum()\n",
        "\n",
        "Other_caste=Total_P-ST_p+SC_p\n",
        "\n",
        "\n",
        "data_caste=[['SCs',SC_p],['STs',ST_p],['Other Caste',Other_caste]] \n",
        "df_caste = pd.DataFrame(data_caste, columns=['Caste', 'Population(in millions)'])\n"
      ],
      "metadata": {
        "id": "EpP-gXjiPbfK"
      },
      "execution_count": 101,
      "outputs": []
    },
    {
      "cell_type": "code",
      "source": [
        "#lets see the above data as bar graph\n",
        "\n",
        "sns.barplot(x='Caste', y='Population(in millions)',data=df_caste)\n",
        "plt.title('Distribution of poulation by caste',fontweight='bold',y=1.08)\n",
        "plt.xlabel('Caste',fontweight='bold')\n",
        "plt.ylabel('Population(in millions)',fontweight='bold')"
      ],
      "metadata": {
        "colab": {
          "base_uri": "https://localhost:8080/",
          "height": 331
        },
        "id": "Ird-oTaXQhtW",
        "outputId": "67ca9869-9a10-4c27-a401-d8aad7767d91"
      },
      "execution_count": 102,
      "outputs": [
        {
          "output_type": "execute_result",
          "data": {
            "text/plain": [
              "Text(0, 0.5, 'Population(in millions)')"
            ]
          },
          "metadata": {},
          "execution_count": 102
        },
        {
          "output_type": "display_data",
          "data": {
            "text/plain": [
              "<Figure size 432x288 with 1 Axes>"
            ],
            "image/png": "[encoded data removed]"
          },
          "metadata": {
            "needs_background": "light"
          }
        }
      ]
    },
    {
      "cell_type": "code",
      "source": [
        "#lets see the same visualisation as pie chart\n",
        "\n",
        "df_caste.plot(kind = 'pie', y = 'Population(in millions)',startangle=40, labels = ['SCs', 'STs','Other Caste'], autopct='%0.001f%%',shadow = True, explode = (0.1, 0.2,0))\n",
        "plt.ylabel('Population(in millions)',fontweight='bold')\n",
        "plt.title('Distribution of Population by Caste',fontweight='bold',y=1.08)\n"
      ],
      "metadata": {
        "colab": {
          "base_uri": "https://localhost:8080/",
          "height": 300
        },
        "id": "hJmAOpcCQopu",
        "outputId": "1c37efa2-1770-4498-9be1-5daf2a43b28c"
      },
      "execution_count": 103,
      "outputs": [
        {
          "output_type": "execute_result",
          "data": {
            "text/plain": [
              "Text(0.5, 1.08, 'Distribution of Population by Caste')"
            ]
          },
          "metadata": {},
          "execution_count": 103
        },
        {
          "output_type": "display_data",
          "data": {
            "text/plain": [
              "<Figure size 432x288 with 1 Axes>"
            ],
            "image/png": "[encoded data removed]"
          },
          "metadata": {}
        }
      ]
    },
    {
      "cell_type": "markdown",
      "source": [
        "#Distribution of population of occupation"
      ],
      "metadata": {
        "id": "orXusJQCQ9M-"
      }
    },
    {
      "cell_type": "code",
      "source": [
        "#we plot this data category wise as main, marginal and Non workers\n",
        "\n",
        "df_oc=Thrissur[Thrissur['TRU']=='Total']\n",
        "\n",
        "df_oc_main=df_oc['MAINWORK_P'].sum()\n",
        "df_oc_marg=df_oc['MARGWORK_P'].sum()\n",
        "df_oc_NW=df_oc['NON_WORK_P'].sum()\n",
        "\n",
        "data_oc=[['Main Workers',df_oc_main],['Marginal Workers',df_oc_marg],['Non-Workers',df_oc_NW]] \n",
        "df_oc = pd.DataFrame(data_oc, columns=['Worker category', 'Worker Population(in millions)'])\n"
      ],
      "metadata": {
        "id": "ULK1usfIQ7td"
      },
      "execution_count": 104,
      "outputs": []
    },
    {
      "cell_type": "code",
      "source": [
        "#lets see it as bar graph\n",
        "\n",
        "sns.barplot(x='Worker category', y='Worker Population(in millions)',data=df_oc)\n",
        "plt.title('Distribution of poulation by occupation',fontweight='bold',y=1.08)\n",
        "plt.ylabel('Worker Population(in millions)',fontweight='bold')\n",
        "plt.xlabel('Worker Category',fontweight='bold')"
      ],
      "metadata": {
        "colab": {
          "base_uri": "https://localhost:8080/",
          "height": 331
        },
        "id": "--Qe5x0BROtM",
        "outputId": "6d9fbb9f-0beb-4975-891e-70eaadc74c4b"
      },
      "execution_count": 105,
      "outputs": [
        {
          "output_type": "execute_result",
          "data": {
            "text/plain": [
              "Text(0.5, 0, 'Worker Category')"
            ]
          },
          "metadata": {},
          "execution_count": 105
        },
        {
          "output_type": "display_data",
          "data": {
            "text/plain": [
              "<Figure size 432x288 with 1 Axes>"
            ],
            "image/png": "[encoded data removed]"
          },
          "metadata": {
            "needs_background": "light"
          }
        }
      ]
    },
    {
      "cell_type": "markdown",
      "source": [
        "#Distribution of occupation type by gender by block"
      ],
      "metadata": {
        "id": "jiYTL36ZWYbd"
      }
    },
    {
      "cell_type": "code",
      "source": [
        "#Lets see this as a line graph\n",
        "\n",
        "df_gender.plot(x='Name',y=['MAIN_HH_M','MAIN_HH_F','MARG_HH_M','MARG_HH_F']).legend(loc='best', ncol=2, title=\"Category\")\n",
        "plt.xticks(rotation='vertical')\n",
        "plt.title('Household Industry',fontweight='bold',y=1.08)\n",
        "plt.ylabel('Worker Population',fontweight='bold')\n",
        "plt.xlabel('Block',fontweight='bold')\n",
        "\n",
        "#This shows the graph of Household industry ... \n",
        "#For other categories we just need to change the given parameters in the 'y' and title"
      ],
      "metadata": {
        "colab": {
          "base_uri": "https://localhost:8080/",
          "height": 386
        },
        "id": "YPHLKiGWfPUU",
        "outputId": "6463b62e-ae82-4167-b369-da3336111dff"
      },
      "execution_count": 106,
      "outputs": [
        {
          "output_type": "execute_result",
          "data": {
            "text/plain": [
              "Text(0.5, 0, 'Block')"
            ]
          },
          "metadata": {},
          "execution_count": 106
        },
        {
          "output_type": "display_data",
          "data": {
            "text/plain": [
              "<Figure size 432x288 with 1 Axes>"
            ],
            "image/png": "[encoded data removed]"
          },
          "metadata": {
            "needs_background": "light"
          }
        }
      ]
    },
    {
      "cell_type": "code",
      "source": [
        "#We can visualise the same in different way as I did below\n",
        "\n",
        "y = range(0, len(df_gender))\n",
        "\n",
        "MAIN_CL_M=df_gender['MAIN_CL_M']\n",
        "MAIN_CL_F=df_gender['MAIN_CL_F']\n",
        "MAIN_AL_M=df_gender['MAIN_AL_M']\n",
        "MAIN_AL_F=df_gender['MAIN_AL_F']\n",
        "MAIN_HH_M=df_gender['MAIN_HH_M']\n",
        "MAIN_HH_F=df_gender['MAIN_HH_F']\n",
        "MAIN_OT_M=df_gender['MAIN_OT_M']\n",
        "MAIN_OT_F=df_gender['MAIN_OT_F']\n",
        "MARG_CL_M=df_gender['MARG_CL_M']\n",
        "MARG_CL_F=df_gender['MARG_CL_F']\n",
        "MARG_AL_M=df_gender['MARG_AL_M']\n",
        "MARG_AL_F=df_gender['MARG_AL_F']\n",
        "MARG_HH_M=df_gender['MARG_HH_M']\n",
        "MARG_HH_F=df_gender['MARG_HH_F']\n",
        "MARG_OT_M=df_gender['MARG_OT_M']\n",
        "MARG_OT_F=df_gender['MARG_OT_F']\n",
        "\n",
        "\n",
        "#define plot parameters\n",
        "fig, axes = plt.subplots(ncols=4, sharey=True, figsize=(9, 6))\n",
        "\n",
        "#specify background color and plot title\n",
        "#fig.patch.set_facecolor('xkcd:light grey')\n",
        "plt.figtext(0.5,1,\"Household Industry\", fontsize=16, ha='center')\n",
        "    \n",
        "#define male and female bars\n",
        "axes[0].barh(y, MAIN_HH_M, align='center', color='royalblue')\n",
        "axes[0].set(title='Males(Main)')\n",
        "axes[1].barh(y, MAIN_HH_F, align='center', color='lightpink')\n",
        "axes[1].set(title='Females(Main)')\n",
        "axes[2].barh(y, MARG_HH_M, align='center', color='black')\n",
        "axes[2].set(title='Males(Marg)',xlabel='Worker Population')\n",
        "axes[3].barh(y, MARG_HH_F, align='center', color='red')\n",
        "axes[3].set(title='Females(Marg)')\n",
        "#adjust grid parameters and specify labels for y-axis\n",
        "#axes[1].grid()\n",
        "axes[0].set(yticks=y, yticklabels=df_gender['Name'],ylabel='Block Name')\n",
        "axes[0].invert_xaxis()\n",
        "#axes[0].grid()\n",
        "#axes[3].grid()\n",
        "#axes[2].set(yticks=y, yticklabels=dfg['Name'])\n",
        "axes[2].invert_xaxis()\n",
        "#axes[2].grid()\n",
        "for i in range(0,4):\n",
        "  print(axes[i].grid())\n",
        "\n",
        "plt.show()\n",
        "\n",
        "#This shows the graph of Household industry ... \n",
        "#For other categories we just need to change the given parameters and title"
      ],
      "metadata": {
        "colab": {
          "base_uri": "https://localhost:8080/",
          "height": 525
        },
        "id": "LWu4NxZfRpMF",
        "outputId": "dcbbe599-b957-45c0-e8aa-97601c182f93"
      },
      "execution_count": 107,
      "outputs": [
        {
          "output_type": "stream",
          "name": "stdout",
          "text": [
            "None\n",
            "None\n",
            "None\n",
            "None\n"
          ]
        },
        {
          "output_type": "display_data",
          "data": {
            "text/plain": [
              "<Figure size 648x432 with 4 Axes>"
            ],
            "image/png": "[encoded data removed]"
          },
          "metadata": {
            "needs_background": "light"
          }
        }
      ]
    },
    {
      "cell_type": "markdown",
      "source": [
        "#Distribution of literacy by rural/urban \n"
      ],
      "metadata": {
        "id": "AGeTbDMWkwPe"
      }
    },
    {
      "cell_type": "code",
      "source": [
        "Rural_lp=dfr['P_LIT'].sum()/2\n",
        "Urban_lp=dfu['P_LIT'].sum()/2\n",
        "Rural_ilp=dfr['P_ILL'].sum()/2\n",
        "Urban_ilp=dfu['P_ILL'].sum()/2\n",
        "\n",
        "data_lru=[['Rural','Literate',Rural_lp],['Rural','Illeterate',Rural_ilp],['Urban','Literate',Urban_lp],['Urban','Illeterate',Urban_ilp]]\n",
        "df_lru = pd.DataFrame(data_lru, columns=['Area', 'type','Population(in millions)'])\n",
        "\n",
        "df_lru.head()"
      ],
      "metadata": {
        "colab": {
          "base_uri": "https://localhost:8080/",
          "height": 175
        },
        "id": "GGipOThllAEd",
        "outputId": "476c7357-827e-47bb-9fc2-5a4148e3fe5e"
      },
      "execution_count": 108,
      "outputs": [
        {
          "output_type": "execute_result",
          "data": {
            "text/plain": [
              "    Area        type  Population(in millions)\n",
              "0  Rural    Literate                 865471.0\n",
              "1  Rural  Illeterate                 159323.0\n",
              "2  Urban    Literate                1335211.0\n",
              "3  Urban  Illeterate                 219358.0"
            ],
            "text/html": [
              "\n",
              "  <div id=\"df-f76233f0-ee72-4f83-87b9-74ac7c642512\">\n",
              "    <div class=\"colab-df-container\">\n",
              "      <div>\n",
              "<style scoped>\n",
              "    .dataframe tbody tr th:only-of-type {\n",
              "        vertical-align: middle;\n",
              "    }\n",
              "\n",
              "    .dataframe tbody tr th {\n",
              "        vertical-align: top;\n",
              "    }\n",
              "\n",
              "    .dataframe thead th {\n",
              "        text-align: right;\n",
              "    }\n",
              "</style>\n",
              "<table border=\"1\" class=\"dataframe\">\n",
              "  <thead>\n",
              "    <tr style=\"text-align: right;\">\n",
              "      <th></th>\n",
              "      <th>Area</th>\n",
              "      <th>type</th>\n",
              "      <th>Population(in millions)</th>\n",
              "    </tr>\n",
              "  </thead>\n",
              "  <tbody>\n",
              "    <tr>\n",
              "      <th>0</th>\n",
              "      <td>Rural</td>\n",
              "      <td>Literate</td>\n",
              "      <td>865471.0</td>\n",
              "    </tr>\n",
              "    <tr>\n",
              "      <th>1</th>\n",
              "      <td>Rural</td>\n",
              "      <td>Illeterate</td>\n",
              "      <td>159323.0</td>\n",
              "    </tr>\n",
              "    <tr>\n",
              "      <th>2</th>\n",
              "      <td>Urban</td>\n",
              "      <td>Literate</td>\n",
              "      <td>1335211.0</td>\n",
              "    </tr>\n",
              "    <tr>\n",
              "      <th>3</th>\n",
              "      <td>Urban</td>\n",
              "      <td>Illeterate</td>\n",
              "      <td>219358.0</td>\n",
              "    </tr>\n",
              "  </tbody>\n",
              "</table>\n",
              "</div>\n",
              "      <button class=\"colab-df-convert\" onclick=\"convertToInteractive('df-f76233f0-ee72-4f83-87b9-74ac7c642512')\"\n",
              "              title=\"Convert this dataframe to an interactive table.\"\n",
              "              style=\"display:none;\">\n",
              "        \n",
              "  <svg xmlns=\"http://www.w3.org/2000/svg\" height=\"24px\"viewBox=\"0 0 24 24\"\n",
              "       width=\"24px\">\n",
              "    <path d=\"M0 0h24v24H0V0z\" fill=\"none\"/>\n",
              "    <path d=\"M18.56 5.44l.94 2.06.94-2.06 2.06-.94-2.06-.94-.94-2.06-.94 2.06-2.06.94zm-11 1L8.5 8.5l.94-2.06 2.06-.94-2.06-.94L8.5 2.5l-.94 2.06-2.06.94zm10 10l.94 2.06.94-2.06 2.06-.94-2.06-.94-.94-2.06-.94 2.06-2.06.94z\"/><path d=\"M17.41 7.96l-1.37-1.37c-.4-.4-.92-.59-1.43-.59-.52 0-1.04.2-1.43.59L10.3 9.45l-7.72 7.72c-.78.78-.78 2.05 0 2.83L4 21.41c.39.39.9.59 1.41.59.51 0 1.02-.2 1.41-.59l7.78-7.78 2.81-2.81c.8-.78.8-2.07 0-2.86zM5.41 20L4 18.59l7.72-7.72 1.47 1.35L5.41 20z\"/>\n",
              "  </svg>\n",
              "      </button>\n",
              "      \n",
              "  <style>\n",
              "    .colab-df-container {\n",
              "      display:flex;\n",
              "      flex-wrap:wrap;\n",
              "      gap: 12px;\n",
              "    }\n",
              "\n",
              "    .colab-df-convert {\n",
              "      background-color: #E8F0FE;\n",
              "      border: none;\n",
              "      border-radius: 50%;\n",
              "      cursor: pointer;\n",
              "      display: none;\n",
              "      fill: #1967D2;\n",
              "      height: 32px;\n",
              "      padding: 0 0 0 0;\n",
              "      width: 32px;\n",
              "    }\n",
              "\n",
              "    .colab-df-convert:hover {\n",
              "      background-color: #E2EBFA;\n",
              "      box-shadow: 0px 1px 2px rgba(60, 64, 67, 0.3), 0px 1px 3px 1px rgba(60, 64, 67, 0.15);\n",
              "      fill: #174EA6;\n",
              "    }\n",
              "\n",
              "    [theme=dark] .colab-df-convert {\n",
              "      background-color: #3B4455;\n",
              "      fill: #D2E3FC;\n",
              "    }\n",
              "\n",
              "    [theme=dark] .colab-df-convert:hover {\n",
              "      background-color: #434B5C;\n",
              "      box-shadow: 0px 1px 3px 1px rgba(0, 0, 0, 0.15);\n",
              "      filter: drop-shadow(0px 1px 2px rgba(0, 0, 0, 0.3));\n",
              "      fill: #FFFFFF;\n",
              "    }\n",
              "  </style>\n",
              "\n",
              "      <script>\n",
              "        const buttonEl =\n",
              "          document.querySelector('#df-f76233f0-ee72-4f83-87b9-74ac7c642512 button.colab-df-convert');\n",
              "        buttonEl.style.display =\n",
              "          google.colab.kernel.accessAllowed ? 'block' : 'none';\n",
              "\n",
              "        async function convertToInteractive(key) {\n",
              "          const element = document.querySelector('#df-f76233f0-ee72-4f83-87b9-74ac7c642512');\n",
              "          const dataTable =\n",
              "            await google.colab.kernel.invokeFunction('convertToInteractive',\n",
              "                                                     [key], {});\n",
              "          if (!dataTable) return;\n",
              "\n",
              "          const docLinkHtml = 'Like what you see? Visit the ' +\n",
              "            '<a target=\"_blank\" href=https://colab.research.google.com/notebooks/data_table.ipynb>data table notebook</a>'\n",
              "            + ' to learn more about interactive tables.';\n",
              "          element.innerHTML = '';\n",
              "          dataTable['output_type'] = 'display_data';\n",
              "          await google.colab.output.renderOutput(dataTable, element);\n",
              "          const docLink = document.createElement('div');\n",
              "          docLink.innerHTML = docLinkHtml;\n",
              "          element.appendChild(docLink);\n",
              "        }\n",
              "      </script>\n",
              "    </div>\n",
              "  </div>\n",
              "  "
            ]
          },
          "metadata": {},
          "execution_count": 108
        }
      ]
    },
    {
      "cell_type": "code",
      "source": [
        "sns.catplot(x='Area',y='Population(in millions)',hue=\"type\",kind='bar',data=df_lru)\n",
        "\n",
        "plt.title('Distribution of literacy by rural/urban',fontweight='bold',y=1.08)\n",
        "plt.ylabel('Population',fontweight='bold')\n",
        "plt.xlabel('Area',fontweight='bold')"
      ],
      "metadata": {
        "colab": {
          "base_uri": "https://localhost:8080/",
          "height": 392
        },
        "id": "UpwcoLAtlT-X",
        "outputId": "4bcf9641-e100-44d7-c530-cd9ddef2edc4"
      },
      "execution_count": 109,
      "outputs": [
        {
          "output_type": "execute_result",
          "data": {
            "text/plain": [
              "Text(0.5, 20.799999999999983, 'Area')"
            ]
          },
          "metadata": {},
          "execution_count": 109
        },
        {
          "output_type": "display_data",
          "data": {
            "text/plain": [
              "<Figure size 441x360 with 1 Axes>"
            ],
            "image/png": "[encoded data removed]"
          },
          "metadata": {
            "needs_background": "light"
          }
        }
      ]
    },
    {
      "cell_type": "markdown",
      "source": [
        "#Distribution of literacy by gender \n",
        " "
      ],
      "metadata": {
        "id": "rwLOizxQmSaf"
      }
    },
    {
      "cell_type": "code",
      "source": [
        "Male_lp=df_gender['M_LIT'].sum()\n",
        "Female_lp=df_gender['F_LIT'].sum()\n",
        "Male_ilp=df_gender['M_ILL'].sum()\n",
        "Female_ilp=df_gender['F_ILL'].sum()\n",
        "\n",
        "data_lmf=[['Male','Literate',Male_lp],['Male','Illeterate',Male_ilp],['Female','Literate',Female_lp],['Female','Illeterate',Female_ilp]]\n",
        "df_lmf = pd.DataFrame(data_lmf, columns=['Gender', 'type','Literacy'])\n",
        "\n",
        "df_lmf.head()\n"
      ],
      "metadata": {
        "colab": {
          "base_uri": "https://localhost:8080/",
          "height": 175
        },
        "id": "vNcgKNjumriA",
        "outputId": "ba9001b9-ccdf-4ac0-cb78-219f526d8618"
      },
      "execution_count": 110,
      "outputs": [
        {
          "output_type": "execute_result",
          "data": {
            "text/plain": [
              "   Gender        type  Literacy\n",
              "0    Male    Literate   1053646\n",
              "1    Male  Illeterate    168815\n",
              "2  Female    Literate   1147036\n",
              "3  Female  Illeterate    209866"
            ],
            "text/html": [
              "\n",
              "  <div id=\"df-de916b0a-0eab-49bf-9225-11db42830345\">\n",
              "    <div class=\"colab-df-container\">\n",
              "      <div>\n",
              "<style scoped>\n",
              "    .dataframe tbody tr th:only-of-type {\n",
              "        vertical-align: middle;\n",
              "    }\n",
              "\n",
              "    .dataframe tbody tr th {\n",
              "        vertical-align: top;\n",
              "    }\n",
              "\n",
              "    .dataframe thead th {\n",
              "        text-align: right;\n",
              "    }\n",
              "</style>\n",
              "<table border=\"1\" class=\"dataframe\">\n",
              "  <thead>\n",
              "    <tr style=\"text-align: right;\">\n",
              "      <th></th>\n",
              "      <th>Gender</th>\n",
              "      <th>type</th>\n",
              "      <th>Literacy</th>\n",
              "    </tr>\n",
              "  </thead>\n",
              "  <tbody>\n",
              "    <tr>\n",
              "      <th>0</th>\n",
              "      <td>Male</td>\n",
              "      <td>Literate</td>\n",
              "      <td>1053646</td>\n",
              "    </tr>\n",
              "    <tr>\n",
              "      <th>1</th>\n",
              "      <td>Male</td>\n",
              "      <td>Illeterate</td>\n",
              "      <td>168815</td>\n",
              "    </tr>\n",
              "    <tr>\n",
              "      <th>2</th>\n",
              "      <td>Female</td>\n",
              "      <td>Literate</td>\n",
              "      <td>1147036</td>\n",
              "    </tr>\n",
              "    <tr>\n",
              "      <th>3</th>\n",
              "      <td>Female</td>\n",
              "      <td>Illeterate</td>\n",
              "      <td>209866</td>\n",
              "    </tr>\n",
              "  </tbody>\n",
              "</table>\n",
              "</div>\n",
              "      <button class=\"colab-df-convert\" onclick=\"convertToInteractive('df-de916b0a-0eab-49bf-9225-11db42830345')\"\n",
              "              title=\"Convert this dataframe to an interactive table.\"\n",
              "              style=\"display:none;\">\n",
              "        \n",
              "  <svg xmlns=\"http://www.w3.org/2000/svg\" height=\"24px\"viewBox=\"0 0 24 24\"\n",
              "       width=\"24px\">\n",
              "    <path d=\"M0 0h24v24H0V0z\" fill=\"none\"/>\n",
              "    <path d=\"M18.56 5.44l.94 2.06.94-2.06 2.06-.94-2.06-.94-.94-2.06-.94 2.06-2.06.94zm-11 1L8.5 8.5l.94-2.06 2.06-.94-2.06-.94L8.5 2.5l-.94 2.06-2.06.94zm10 10l.94 2.06.94-2.06 2.06-.94-2.06-.94-.94-2.06-.94 2.06-2.06.94z\"/><path d=\"M17.41 7.96l-1.37-1.37c-.4-.4-.92-.59-1.43-.59-.52 0-1.04.2-1.43.59L10.3 9.45l-7.72 7.72c-.78.78-.78 2.05 0 2.83L4 21.41c.39.39.9.59 1.41.59.51 0 1.02-.2 1.41-.59l7.78-7.78 2.81-2.81c.8-.78.8-2.07 0-2.86zM5.41 20L4 18.59l7.72-7.72 1.47 1.35L5.41 20z\"/>\n",
              "  </svg>\n",
              "      </button>\n",
              "      \n",
              "  <style>\n",
              "    .colab-df-container {\n",
              "      display:flex;\n",
              "      flex-wrap:wrap;\n",
              "      gap: 12px;\n",
              "    }\n",
              "\n",
              "    .colab-df-convert {\n",
              "      background-color: #E8F0FE;\n",
              "      border: none;\n",
              "      border-radius: 50%;\n",
              "      cursor: pointer;\n",
              "      display: none;\n",
              "      fill: #1967D2;\n",
              "      height: 32px;\n",
              "      padding: 0 0 0 0;\n",
              "      width: 32px;\n",
              "    }\n",
              "\n",
              "    .colab-df-convert:hover {\n",
              "      background-color: #E2EBFA;\n",
              "      box-shadow: 0px 1px 2px rgba(60, 64, 67, 0.3), 0px 1px 3px 1px rgba(60, 64, 67, 0.15);\n",
              "      fill: #174EA6;\n",
              "    }\n",
              "\n",
              "    [theme=dark] .colab-df-convert {\n",
              "      background-color: #3B4455;\n",
              "      fill: #D2E3FC;\n",
              "    }\n",
              "\n",
              "    [theme=dark] .colab-df-convert:hover {\n",
              "      background-color: #434B5C;\n",
              "      box-shadow: 0px 1px 3px 1px rgba(0, 0, 0, 0.15);\n",
              "      filter: drop-shadow(0px 1px 2px rgba(0, 0, 0, 0.3));\n",
              "      fill: #FFFFFF;\n",
              "    }\n",
              "  </style>\n",
              "\n",
              "      <script>\n",
              "        const buttonEl =\n",
              "          document.querySelector('#df-de916b0a-0eab-49bf-9225-11db42830345 button.colab-df-convert');\n",
              "        buttonEl.style.display =\n",
              "          google.colab.kernel.accessAllowed ? 'block' : 'none';\n",
              "\n",
              "        async function convertToInteractive(key) {\n",
              "          const element = document.querySelector('#df-de916b0a-0eab-49bf-9225-11db42830345');\n",
              "          const dataTable =\n",
              "            await google.colab.kernel.invokeFunction('convertToInteractive',\n",
              "                                                     [key], {});\n",
              "          if (!dataTable) return;\n",
              "\n",
              "          const docLinkHtml = 'Like what you see? Visit the ' +\n",
              "            '<a target=\"_blank\" href=https://colab.research.google.com/notebooks/data_table.ipynb>data table notebook</a>'\n",
              "            + ' to learn more about interactive tables.';\n",
              "          element.innerHTML = '';\n",
              "          dataTable['output_type'] = 'display_data';\n",
              "          await google.colab.output.renderOutput(dataTable, element);\n",
              "          const docLink = document.createElement('div');\n",
              "          docLink.innerHTML = docLinkHtml;\n",
              "          element.appendChild(docLink);\n",
              "        }\n",
              "      </script>\n",
              "    </div>\n",
              "  </div>\n",
              "  "
            ]
          },
          "metadata": {},
          "execution_count": 110
        }
      ]
    },
    {
      "cell_type": "code",
      "source": [
        "palette = {c: \"yellow\" if c != \"Literate\" else \"blue\" for c in df_lmf[\"type\"].unique()}\n",
        "\n",
        "sns.catplot(x='Gender',y='Literacy',hue=\"type\",kind='bar',palette=palette, data=df_lmf)\n",
        "\n",
        "plt.title('Distribution of literacy by Gender',fontweight='bold',y=1.08)\n",
        "plt.ylabel('Literacy(in millions)',fontweight='bold')\n",
        "plt.xlabel('Gender',fontweight='bold')"
      ],
      "metadata": {
        "colab": {
          "base_uri": "https://localhost:8080/",
          "height": 392
        },
        "id": "0dGgeA9ZnLrn",
        "outputId": "b63cedcb-3b15-404c-c116-32ffa0562784"
      },
      "execution_count": 111,
      "outputs": [
        {
          "output_type": "execute_result",
          "data": {
            "text/plain": [
              "Text(0.5, 20.799999999999983, 'Gender')"
            ]
          },
          "metadata": {},
          "execution_count": 111
        },
        {
          "output_type": "display_data",
          "data": {
            "text/plain": [
              "<Figure size 441x360 with 1 Axes>"
            ],
            "image/png": "[encoded data removed]"
          },
          "metadata": {
            "needs_background": "light"
          }
        }
      ]
    },
    {
      "cell_type": "markdown",
      "source": [
        "#For all those places, classified as urban, distribution of literacy by gender \n"
      ],
      "metadata": {
        "id": "jTGSoOW3mat6"
      }
    },
    {
      "cell_type": "code",
      "source": [
        "Male_ulp=dfu['M_LIT'].sum()/2\n",
        "Female_ulp=dfu['F_LIT'].sum()/2\n",
        "Male_uilp=dfu['M_ILL'].sum()/2\n",
        "Female_uilp=dfu['F_ILL'].sum()/2\n",
        "\n",
        "data_ulmf=[['Male','Literate',Male_ulp],['Male','Illeterate',Male_uilp],['Female','Literate',Female_ulp],['Female','Illeterate',Female_uilp]]\n",
        "df_ulmf = pd.DataFrame(data_ulmf, columns=['Gender', 'type','Literacy'])\n",
        "\n",
        "df_ulmf.head()"
      ],
      "metadata": {
        "colab": {
          "base_uri": "https://localhost:8080/",
          "height": 175
        },
        "id": "JWDITuG6nlks",
        "outputId": "462342b5-0cba-4756-c703-f8ee147156d7"
      },
      "execution_count": 112,
      "outputs": [
        {
          "output_type": "execute_result",
          "data": {
            "text/plain": [
              "   Gender        type  Literacy\n",
              "0    Male    Literate  635026.0\n",
              "1    Male  Illeterate   99132.0\n",
              "2  Female    Literate  700185.0\n",
              "3  Female  Illeterate  120226.0"
            ],
            "text/html": [
              "\n",
              "  <div id=\"df-73175335-a14c-44ed-9fb8-5416ca24bc17\">\n",
              "    <div class=\"colab-df-container\">\n",
              "      <div>\n",
              "<style scoped>\n",
              "    .dataframe tbody tr th:only-of-type {\n",
              "        vertical-align: middle;\n",
              "    }\n",
              "\n",
              "    .dataframe tbody tr th {\n",
              "        vertical-align: top;\n",
              "    }\n",
              "\n",
              "    .dataframe thead th {\n",
              "        text-align: right;\n",
              "    }\n",
              "</style>\n",
              "<table border=\"1\" class=\"dataframe\">\n",
              "  <thead>\n",
              "    <tr style=\"text-align: right;\">\n",
              "      <th></th>\n",
              "      <th>Gender</th>\n",
              "      <th>type</th>\n",
              "      <th>Literacy</th>\n",
              "    </tr>\n",
              "  </thead>\n",
              "  <tbody>\n",
              "    <tr>\n",
              "      <th>0</th>\n",
              "      <td>Male</td>\n",
              "      <td>Literate</td>\n",
              "      <td>635026.0</td>\n",
              "    </tr>\n",
              "    <tr>\n",
              "      <th>1</th>\n",
              "      <td>Male</td>\n",
              "      <td>Illeterate</td>\n",
              "      <td>99132.0</td>\n",
              "    </tr>\n",
              "    <tr>\n",
              "      <th>2</th>\n",
              "      <td>Female</td>\n",
              "      <td>Literate</td>\n",
              "      <td>700185.0</td>\n",
              "    </tr>\n",
              "    <tr>\n",
              "      <th>3</th>\n",
              "      <td>Female</td>\n",
              "      <td>Illeterate</td>\n",
              "      <td>120226.0</td>\n",
              "    </tr>\n",
              "  </tbody>\n",
              "</table>\n",
              "</div>\n",
              "      <button class=\"colab-df-convert\" onclick=\"convertToInteractive('df-73175335-a14c-44ed-9fb8-5416ca24bc17')\"\n",
              "              title=\"Convert this dataframe to an interactive table.\"\n",
              "              style=\"display:none;\">\n",
              "        \n",
              "  <svg xmlns=\"http://www.w3.org/2000/svg\" height=\"24px\"viewBox=\"0 0 24 24\"\n",
              "       width=\"24px\">\n",
              "    <path d=\"M0 0h24v24H0V0z\" fill=\"none\"/>\n",
              "    <path d=\"M18.56 5.44l.94 2.06.94-2.06 2.06-.94-2.06-.94-.94-2.06-.94 2.06-2.06.94zm-11 1L8.5 8.5l.94-2.06 2.06-.94-2.06-.94L8.5 2.5l-.94 2.06-2.06.94zm10 10l.94 2.06.94-2.06 2.06-.94-2.06-.94-.94-2.06-.94 2.06-2.06.94z\"/><path d=\"M17.41 7.96l-1.37-1.37c-.4-.4-.92-.59-1.43-.59-.52 0-1.04.2-1.43.59L10.3 9.45l-7.72 7.72c-.78.78-.78 2.05 0 2.83L4 21.41c.39.39.9.59 1.41.59.51 0 1.02-.2 1.41-.59l7.78-7.78 2.81-2.81c.8-.78.8-2.07 0-2.86zM5.41 20L4 18.59l7.72-7.72 1.47 1.35L5.41 20z\"/>\n",
              "  </svg>\n",
              "      </button>\n",
              "      \n",
              "  <style>\n",
              "    .colab-df-container {\n",
              "      display:flex;\n",
              "      flex-wrap:wrap;\n",
              "      gap: 12px;\n",
              "    }\n",
              "\n",
              "    .colab-df-convert {\n",
              "      background-color: #E8F0FE;\n",
              "      border: none;\n",
              "      border-radius: 50%;\n",
              "      cursor: pointer;\n",
              "      display: none;\n",
              "      fill: #1967D2;\n",
              "      height: 32px;\n",
              "      padding: 0 0 0 0;\n",
              "      width: 32px;\n",
              "    }\n",
              "\n",
              "    .colab-df-convert:hover {\n",
              "      background-color: #E2EBFA;\n",
              "      box-shadow: 0px 1px 2px rgba(60, 64, 67, 0.3), 0px 1px 3px 1px rgba(60, 64, 67, 0.15);\n",
              "      fill: #174EA6;\n",
              "    }\n",
              "\n",
              "    [theme=dark] .colab-df-convert {\n",
              "      background-color: #3B4455;\n",
              "      fill: #D2E3FC;\n",
              "    }\n",
              "\n",
              "    [theme=dark] .colab-df-convert:hover {\n",
              "      background-color: #434B5C;\n",
              "      box-shadow: 0px 1px 3px 1px rgba(0, 0, 0, 0.15);\n",
              "      filter: drop-shadow(0px 1px 2px rgba(0, 0, 0, 0.3));\n",
              "      fill: #FFFFFF;\n",
              "    }\n",
              "  </style>\n",
              "\n",
              "      <script>\n",
              "        const buttonEl =\n",
              "          document.querySelector('#df-73175335-a14c-44ed-9fb8-5416ca24bc17 button.colab-df-convert');\n",
              "        buttonEl.style.display =\n",
              "          google.colab.kernel.accessAllowed ? 'block' : 'none';\n",
              "\n",
              "        async function convertToInteractive(key) {\n",
              "          const element = document.querySelector('#df-73175335-a14c-44ed-9fb8-5416ca24bc17');\n",
              "          const dataTable =\n",
              "            await google.colab.kernel.invokeFunction('convertToInteractive',\n",
              "                                                     [key], {});\n",
              "          if (!dataTable) return;\n",
              "\n",
              "          const docLinkHtml = 'Like what you see? Visit the ' +\n",
              "            '<a target=\"_blank\" href=https://colab.research.google.com/notebooks/data_table.ipynb>data table notebook</a>'\n",
              "            + ' to learn more about interactive tables.';\n",
              "          element.innerHTML = '';\n",
              "          dataTable['output_type'] = 'display_data';\n",
              "          await google.colab.output.renderOutput(dataTable, element);\n",
              "          const docLink = document.createElement('div');\n",
              "          docLink.innerHTML = docLinkHtml;\n",
              "          element.appendChild(docLink);\n",
              "        }\n",
              "      </script>\n",
              "    </div>\n",
              "  </div>\n",
              "  "
            ]
          },
          "metadata": {},
          "execution_count": 112
        }
      ]
    },
    {
      "cell_type": "code",
      "source": [
        "palette = {c: \"yellow\" if c != \"Literate\" else \"blue\" for c in df_ulmf[\"type\"].unique()}\n",
        "\n",
        "sns.catplot(x='Gender',y='Literacy',hue=\"type\",kind='bar',palette=palette, data=df_ulmf)\n",
        "\n",
        "plt.title('Distribution of urban literacy by Gender',fontweight='bold',y=1.08)\n",
        "plt.ylabel('Literacy(in millions)',fontweight='bold')\n",
        "plt.xlabel('Gender',fontweight='bold')"
      ],
      "metadata": {
        "colab": {
          "base_uri": "https://localhost:8080/",
          "height": 403
        },
        "id": "6-1kZ6tJntF4",
        "outputId": "0225941b-4832-4868-89e1-eb49be55bead"
      },
      "execution_count": 113,
      "outputs": [
        {
          "output_type": "execute_result",
          "data": {
            "text/plain": [
              "Text(0.5, 20.80000000000002, 'Gender')"
            ]
          },
          "metadata": {},
          "execution_count": 113
        },
        {
          "output_type": "display_data",
          "data": {
            "text/plain": [
              "<Figure size 441x360 with 1 Axes>"
            ],
            "image/png": "[encoded data removed]"
          },
          "metadata": {
            "needs_background": "light"
          }
        }
      ]
    },
    {
      "cell_type": "markdown",
      "source": [
        "For your selected state, search for the following dataset in the census website: Main workers, marginal workers, non-workers and those marginal workers, non-workers seeking/available for work classified by age, sex and religious community. From this dataset, perform the following visualisations \\\\\n",
        "Distribution of main workers, marginal workers and non-workers by religion \\\\\n",
        "Distribution of main workers, marginal workers and non-workers by age-group \\\\\n",
        "Distribution of main workers, marginal workers and non-workers by rural/urban \\\\\n",
        "Distribution of main workers, marginal workers and non-workers by religion by gender \\\\\n",
        "Finally, read up on the definition of Labour Force Participation Rate (LFPR) and calculate the LFPR for the age-group 15-50 for your allotted state by gender.  \n",
        "Finally, from the census website, for your selected state, demonstrate the distribution of occupational categories by gender.\n",
        "\n",
        "[The dataset I have taken](https://docs.google.com/spreadsheets/d/1uoKmC3ZL_94PMEQISlvBMDrI0dK7K3BuIRI7Nnt0S4M/edit#gid=1411985912/)\n",
        "\n",
        "or [You can access the same here](https://docs.google.com/spreadsheets/d/1uoKmC3ZL_94PMEQISlvBMDrI0dK7K3BuIRI7Nnt0S4M/edit?usp=sharing)"
      ],
      "metadata": {
        "id": "DtMDSEW9opln"
      }
    },
    {
      "cell_type": "code",
      "source": [
        "kerala = pd.read_excel('DDW-0000B-02 (2).xlsx')\n",
        "df_k=kerala.groupby('Area Name')\n",
        "dfk=df_k.get_group('State - KERALA')"
      ],
      "metadata": {
        "id": "LAdALrgTpX88"
      },
      "execution_count": 114,
      "outputs": []
    },
    {
      "cell_type": "markdown",
      "source": [
        "#Distribution of main workers, marginal workers and non-workers by religion"
      ],
      "metadata": {
        "id": "3ApZAn04rCE3"
      }
    },
    {
      "cell_type": "code",
      "source": [
        "dfmmr=dfk.groupby(\"TRU\")\n",
        "dfmmr_T=dfmmr.get_group('Total')\n",
        "dfmmr_A=dfmmr_T.groupby('Age Group')\n",
        "dfmmr_AT=dfmmr_A.get_group('Total')\n",
        "\n",
        "dfmmr_AT=dfmmr_AT.drop(dfmmr_AT.index[dfmmr_AT['Religion']=='All religious communities'])\n",
        "\n",
        "dfmmr_AT.head()"
      ],
      "metadata": {
        "colab": {
          "base_uri": "https://localhost:8080/",
          "height": 403
        },
        "id": "AaHPq-PMrAxV",
        "outputId": "71b91285-fc00-4d85-8d97-32963ce4a57d"
      },
      "execution_count": 115,
      "outputs": [
        {
          "output_type": "execute_result",
          "data": {
            "text/plain": [
              "      Table Name State Code  District Code    TRU       Area Name   Religion  \\\n",
              "12304      B0402         32            0.0  Total  State - KERALA      Hindu   \n",
              "12320      B0402         32            0.0  Total  State - KERALA     Muslim   \n",
              "12336      B0402         32            0.0  Total  State - KERALA  Christian   \n",
              "12352      B0402         32            0.0  Total  State - KERALA       Sikh   \n",
              "12368      B0402         32            0.0  Total  State - KERALA   Buddhist   \n",
              "\n",
              "      Age Group   P_Persons    P_Males  P_Females  ...  Marg_T_Females  \\\n",
              "12304     Total  18282492.0  8803455.0  9479037.0  ...        698141.0   \n",
              "12320     Total   8873472.0  4176255.0  4697217.0  ...        121127.0   \n",
              "12336     Total   6141269.0  2993781.0  3147488.0  ...        194646.0   \n",
              "12352     Total      3814.0     2173.0     1641.0  ...            85.0   \n",
              "12368     Total      4752.0     2442.0     2310.0  ...           118.0   \n",
              "\n",
              "       Marg_S_Persons  Marg_S_Males  Marg_S_Females  NW_T_Persons  NW_T_Males  \\\n",
              "12304        711806.0      384355.0        327451.0    11140748.0   3845762.0   \n",
              "12320        210551.0      149519.0         61032.0     6696805.0   2317245.0   \n",
              "12336        189645.0      100586.0         89059.0     3873678.0   1381511.0   \n",
              "12352           109.0          69.0            40.0        2303.0       946.0   \n",
              "12368           135.0          73.0            62.0        3408.0      1443.0   \n",
              "\n",
              "       NW_T_Females  NW_S_Persons  NW_S_Males  NW_S_Females  \n",
              "12304     7294986.0     2212726.0    612085.0     1600641.0  \n",
              "12320     4379560.0     1001231.0    325556.0      675675.0  \n",
              "12336     2492167.0      693551.0    214423.0      479128.0  \n",
              "12352        1357.0         409.0       146.0         263.0  \n",
              "12368        1965.0         500.0       178.0         322.0  \n",
              "\n",
              "[5 rows x 25 columns]"
            ],
            "text/html": [
              "\n",
              "  <div id=\"df-bc3f7170-75e1-487b-9b6f-7ecb3e015091\">\n",
              "    <div class=\"colab-df-container\">\n",
              "      <div>\n",
              "<style scoped>\n",
              "    .dataframe tbody tr th:only-of-type {\n",
              "        vertical-align: middle;\n",
              "    }\n",
              "\n",
              "    .dataframe tbody tr th {\n",
              "        vertical-align: top;\n",
              "    }\n",
              "\n",
              "    .dataframe thead th {\n",
              "        text-align: right;\n",
              "    }\n",
              "</style>\n",
              "<table border=\"1\" class=\"dataframe\">\n",
              "  <thead>\n",
              "    <tr style=\"text-align: right;\">\n",
              "      <th></th>\n",
              "      <th>Table Name</th>\n",
              "      <th>State Code</th>\n",
              "      <th>District Code</th>\n",
              "      <th>TRU</th>\n",
              "      <th>Area Name</th>\n",
              "      <th>Religion</th>\n",
              "      <th>Age Group</th>\n",
              "      <th>P_Persons</th>\n",
              "      <th>P_Males</th>\n",
              "      <th>P_Females</th>\n",
              "      <th>...</th>\n",
              "      <th>Marg_T_Females</th>\n",
              "      <th>Marg_S_Persons</th>\n",
              "      <th>Marg_S_Males</th>\n",
              "      <th>Marg_S_Females</th>\n",
              "      <th>NW_T_Persons</th>\n",
              "      <th>NW_T_Males</th>\n",
              "      <th>NW_T_Females</th>\n",
              "      <th>NW_S_Persons</th>\n",
              "      <th>NW_S_Males</th>\n",
              "      <th>NW_S_Females</th>\n",
              "    </tr>\n",
              "  </thead>\n",
              "  <tbody>\n",
              "    <tr>\n",
              "      <th>12304</th>\n",
              "      <td>B0402</td>\n",
              "      <td>32</td>\n",
              "      <td>0.0</td>\n",
              "      <td>Total</td>\n",
              "      <td>State - KERALA</td>\n",
              "      <td>Hindu</td>\n",
              "      <td>Total</td>\n",
              "      <td>18282492.0</td>\n",
              "      <td>8803455.0</td>\n",
              "      <td>9479037.0</td>\n",
              "      <td>...</td>\n",
              "      <td>698141.0</td>\n",
              "      <td>711806.0</td>\n",
              "      <td>384355.0</td>\n",
              "      <td>327451.0</td>\n",
              "      <td>11140748.0</td>\n",
              "      <td>3845762.0</td>\n",
              "      <td>7294986.0</td>\n",
              "      <td>2212726.0</td>\n",
              "      <td>612085.0</td>\n",
              "      <td>1600641.0</td>\n",
              "    </tr>\n",
              "    <tr>\n",
              "      <th>12320</th>\n",
              "      <td>B0402</td>\n",
              "      <td>32</td>\n",
              "      <td>0.0</td>\n",
              "      <td>Total</td>\n",
              "      <td>State - KERALA</td>\n",
              "      <td>Muslim</td>\n",
              "      <td>Total</td>\n",
              "      <td>8873472.0</td>\n",
              "      <td>4176255.0</td>\n",
              "      <td>4697217.0</td>\n",
              "      <td>...</td>\n",
              "      <td>121127.0</td>\n",
              "      <td>210551.0</td>\n",
              "      <td>149519.0</td>\n",
              "      <td>61032.0</td>\n",
              "      <td>6696805.0</td>\n",
              "      <td>2317245.0</td>\n",
              "      <td>4379560.0</td>\n",
              "      <td>1001231.0</td>\n",
              "      <td>325556.0</td>\n",
              "      <td>675675.0</td>\n",
              "    </tr>\n",
              "    <tr>\n",
              "      <th>12336</th>\n",
              "      <td>B0402</td>\n",
              "      <td>32</td>\n",
              "      <td>0.0</td>\n",
              "      <td>Total</td>\n",
              "      <td>State - KERALA</td>\n",
              "      <td>Christian</td>\n",
              "      <td>Total</td>\n",
              "      <td>6141269.0</td>\n",
              "      <td>2993781.0</td>\n",
              "      <td>3147488.0</td>\n",
              "      <td>...</td>\n",
              "      <td>194646.0</td>\n",
              "      <td>189645.0</td>\n",
              "      <td>100586.0</td>\n",
              "      <td>89059.0</td>\n",
              "      <td>3873678.0</td>\n",
              "      <td>1381511.0</td>\n",
              "      <td>2492167.0</td>\n",
              "      <td>693551.0</td>\n",
              "      <td>214423.0</td>\n",
              "      <td>479128.0</td>\n",
              "    </tr>\n",
              "    <tr>\n",
              "      <th>12352</th>\n",
              "      <td>B0402</td>\n",
              "      <td>32</td>\n",
              "      <td>0.0</td>\n",
              "      <td>Total</td>\n",
              "      <td>State - KERALA</td>\n",
              "      <td>Sikh</td>\n",
              "      <td>Total</td>\n",
              "      <td>3814.0</td>\n",
              "      <td>2173.0</td>\n",
              "      <td>1641.0</td>\n",
              "      <td>...</td>\n",
              "      <td>85.0</td>\n",
              "      <td>109.0</td>\n",
              "      <td>69.0</td>\n",
              "      <td>40.0</td>\n",
              "      <td>2303.0</td>\n",
              "      <td>946.0</td>\n",
              "      <td>1357.0</td>\n",
              "      <td>409.0</td>\n",
              "      <td>146.0</td>\n",
              "      <td>263.0</td>\n",
              "    </tr>\n",
              "    <tr>\n",
              "      <th>12368</th>\n",
              "      <td>B0402</td>\n",
              "      <td>32</td>\n",
              "      <td>0.0</td>\n",
              "      <td>Total</td>\n",
              "      <td>State - KERALA</td>\n",
              "      <td>Buddhist</td>\n",
              "      <td>Total</td>\n",
              "      <td>4752.0</td>\n",
              "      <td>2442.0</td>\n",
              "      <td>2310.0</td>\n",
              "      <td>...</td>\n",
              "      <td>118.0</td>\n",
              "      <td>135.0</td>\n",
              "      <td>73.0</td>\n",
              "      <td>62.0</td>\n",
              "      <td>3408.0</td>\n",
              "      <td>1443.0</td>\n",
              "      <td>1965.0</td>\n",
              "      <td>500.0</td>\n",
              "      <td>178.0</td>\n",
              "      <td>322.0</td>\n",
              "    </tr>\n",
              "  </tbody>\n",
              "</table>\n",
              "<p>5 rows × 25 columns</p>\n",
              "</div>\n",
              "      <button class=\"colab-df-convert\" onclick=\"convertToInteractive('df-bc3f7170-75e1-487b-9b6f-7ecb3e015091')\"\n",
              "              title=\"Convert this dataframe to an interactive table.\"\n",
              "              style=\"display:none;\">\n",
              "        \n",
              "  <svg xmlns=\"http://www.w3.org/2000/svg\" height=\"24px\"viewBox=\"0 0 24 24\"\n",
              "       width=\"24px\">\n",
              "    <path d=\"M0 0h24v24H0V0z\" fill=\"none\"/>\n",
              "    <path d=\"M18.56 5.44l.94 2.06.94-2.06 2.06-.94-2.06-.94-.94-2.06-.94 2.06-2.06.94zm-11 1L8.5 8.5l.94-2.06 2.06-.94-2.06-.94L8.5 2.5l-.94 2.06-2.06.94zm10 10l.94 2.06.94-2.06 2.06-.94-2.06-.94-.94-2.06-.94 2.06-2.06.94z\"/><path d=\"M17.41 7.96l-1.37-1.37c-.4-.4-.92-.59-1.43-.59-.52 0-1.04.2-1.43.59L10.3 9.45l-7.72 7.72c-.78.78-.78 2.05 0 2.83L4 21.41c.39.39.9.59 1.41.59.51 0 1.02-.2 1.41-.59l7.78-7.78 2.81-2.81c.8-.78.8-2.07 0-2.86zM5.41 20L4 18.59l7.72-7.72 1.47 1.35L5.41 20z\"/>\n",
              "  </svg>\n",
              "      </button>\n",
              "      \n",
              "  <style>\n",
              "    .colab-df-container {\n",
              "      display:flex;\n",
              "      flex-wrap:wrap;\n",
              "      gap: 12px;\n",
              "    }\n",
              "\n",
              "    .colab-df-convert {\n",
              "      background-color: #E8F0FE;\n",
              "      border: none;\n",
              "      border-radius: 50%;\n",
              "      cursor: pointer;\n",
              "      display: none;\n",
              "      fill: #1967D2;\n",
              "      height: 32px;\n",
              "      padding: 0 0 0 0;\n",
              "      width: 32px;\n",
              "    }\n",
              "\n",
              "    .colab-df-convert:hover {\n",
              "      background-color: #E2EBFA;\n",
              "      box-shadow: 0px 1px 2px rgba(60, 64, 67, 0.3), 0px 1px 3px 1px rgba(60, 64, 67, 0.15);\n",
              "      fill: #174EA6;\n",
              "    }\n",
              "\n",
              "    [theme=dark] .colab-df-convert {\n",
              "      background-color: #3B4455;\n",
              "      fill: #D2E3FC;\n",
              "    }\n",
              "\n",
              "    [theme=dark] .colab-df-convert:hover {\n",
              "      background-color: #434B5C;\n",
              "      box-shadow: 0px 1px 3px 1px rgba(0, 0, 0, 0.15);\n",
              "      filter: drop-shadow(0px 1px 2px rgba(0, 0, 0, 0.3));\n",
              "      fill: #FFFFFF;\n",
              "    }\n",
              "  </style>\n",
              "\n",
              "      <script>\n",
              "        const buttonEl =\n",
              "          document.querySelector('#df-bc3f7170-75e1-487b-9b6f-7ecb3e015091 button.colab-df-convert');\n",
              "        buttonEl.style.display =\n",
              "          google.colab.kernel.accessAllowed ? 'block' : 'none';\n",
              "\n",
              "        async function convertToInteractive(key) {\n",
              "          const element = document.querySelector('#df-bc3f7170-75e1-487b-9b6f-7ecb3e015091');\n",
              "          const dataTable =\n",
              "            await google.colab.kernel.invokeFunction('convertToInteractive',\n",
              "                                                     [key], {});\n",
              "          if (!dataTable) return;\n",
              "\n",
              "          const docLinkHtml = 'Like what you see? Visit the ' +\n",
              "            '<a target=\"_blank\" href=https://colab.research.google.com/notebooks/data_table.ipynb>data table notebook</a>'\n",
              "            + ' to learn more about interactive tables.';\n",
              "          element.innerHTML = '';\n",
              "          dataTable['output_type'] = 'display_data';\n",
              "          await google.colab.output.renderOutput(dataTable, element);\n",
              "          const docLink = document.createElement('div');\n",
              "          docLink.innerHTML = docLinkHtml;\n",
              "          element.appendChild(docLink);\n",
              "        }\n",
              "      </script>\n",
              "    </div>\n",
              "  </div>\n",
              "  "
            ]
          },
          "metadata": {},
          "execution_count": 115
        }
      ]
    },
    {
      "cell_type": "code",
      "source": [
        "#Lets see this as stacked bar graph\n",
        "\n",
        "dfmmr_AT.plot(kind='bar',x='Religion',y=['Main_Persons','Marg_T_Persons','NW_T_Persons'], stacked=True)\n",
        "\n",
        "plt.title('Distribution of main workers, marginal workers and non-workers by religion',fontweight='bold',y=1.08)\n",
        "plt.xlabel('Religion',fontweight='bold')\n",
        "plt.ylabel('Worker Population(in ten millions)',fontweight='bold')"
      ],
      "metadata": {
        "colab": {
          "base_uri": "https://localhost:8080/",
          "height": 462
        },
        "id": "s9cdfwGfqX5L",
        "outputId": "07de6419-8fd6-4a3a-d87e-8b4a9ea3a4d6"
      },
      "execution_count": 116,
      "outputs": [
        {
          "output_type": "execute_result",
          "data": {
            "text/plain": [
              "Text(0, 0.5, 'Worker Population(in ten millions)')"
            ]
          },
          "metadata": {},
          "execution_count": 116
        },
        {
          "output_type": "display_data",
          "data": {
            "text/plain": [
              "<Figure size 432x288 with 1 Axes>"
            ],
            "image/png": "[encoded data removed]"
          },
          "metadata": {
            "needs_background": "light"
          }
        }
      ]
    },
    {
      "cell_type": "markdown",
      "source": [
        "#Distribution of main workers, marginal workers and non-workers by age-group\n"
      ],
      "metadata": {
        "id": "72aB5GAdrTF7"
      }
    },
    {
      "cell_type": "code",
      "source": [
        "dfmma_R=dfmmr_T.groupby('Religion')\n",
        "dfmma_A=dfmma_R.get_group('All religious communities')\n",
        "dfmma_A=dfmma_A.drop(dfmma_A.index[dfmma_A['Age Group']=='Total'])\n",
        "\n",
        "dfmma_A=dfmma_A.drop(dfmma_A.index[dfmma_A['Age Group']=='15-59'])\n",
        "dfmma_A=dfmma_A.drop(dfmma_A.index[dfmma_A['Age Group']=='60+'])\n",
        "\n",
        "dfmma_A.head()"
      ],
      "metadata": {
        "colab": {
          "base_uri": "https://localhost:8080/",
          "height": 403
        },
        "id": "fuxIiAuHro3i",
        "outputId": "d74e7881-4c55-44c0-f8d3-67a474b23b69"
      },
      "execution_count": 117,
      "outputs": [
        {
          "output_type": "execute_result",
          "data": {
            "text/plain": [
              "      Table Name State Code  District Code    TRU       Area Name  \\\n",
              "12289      B0402         32            0.0  Total  State - KERALA   \n",
              "12290      B0402         32            0.0  Total  State - KERALA   \n",
              "12291      B0402         32            0.0  Total  State - KERALA   \n",
              "12292      B0402         32            0.0  Total  State - KERALA   \n",
              "12293      B0402         32            0.0  Total  State - KERALA   \n",
              "\n",
              "                        Religion Age Group  P_Persons    P_Males  P_Females  \\\n",
              "12289  All religious communities       5-9  2555112.0  1303190.0  1251922.0   \n",
              "12290  All religious communities     10-14  2822770.0  1438917.0  1383853.0   \n",
              "12291  All religious communities     15-19  2610552.0  1328299.0  1282253.0   \n",
              "12292  All religious communities     20-24  2665809.0  1298826.0  1366983.0   \n",
              "12293  All religious communities     25-29  2604092.0  1203978.0  1400114.0   \n",
              "\n",
              "       ...  Marg_T_Females  Marg_S_Persons  Marg_S_Males  Marg_S_Females  \\\n",
              "12289  ...          4081.0          3780.0        1946.0          1834.0   \n",
              "12290  ...          7301.0          8386.0        4454.0          3932.0   \n",
              "12291  ...         25452.0         53953.0       34750.0         19203.0   \n",
              "12292  ...         73495.0        171921.0      114536.0         57385.0   \n",
              "12293  ...         96773.0        183500.0      114510.0         68990.0   \n",
              "\n",
              "       NW_T_Persons  NW_T_Males  NW_T_Females  NW_S_Persons  NW_S_Males  \\\n",
              "12289     2539348.0   1294840.0     1244508.0       38616.0     19729.0   \n",
              "12290     2793098.0   1421375.0     1371723.0       90263.0     46479.0   \n",
              "12291     2409371.0   1179021.0     1230350.0      744826.0    373120.0   \n",
              "12292     1782045.0    617733.0     1164312.0     1033655.0    407614.0   \n",
              "12293     1267231.0    178228.0     1089003.0      669761.0    130128.0   \n",
              "\n",
              "       NW_S_Females  \n",
              "12289       18887.0  \n",
              "12290       43784.0  \n",
              "12291      371706.0  \n",
              "12292      626041.0  \n",
              "12293      539633.0  \n",
              "\n",
              "[5 rows x 25 columns]"
            ],
            "text/html": [
              "\n",
              "  <div id=\"df-65857b9e-6498-4992-8bd4-1b857acde58c\">\n",
              "    <div class=\"colab-df-container\">\n",
              "      <div>\n",
              "<style scoped>\n",
              "    .dataframe tbody tr th:only-of-type {\n",
              "        vertical-align: middle;\n",
              "    }\n",
              "\n",
              "    .dataframe tbody tr th {\n",
              "        vertical-align: top;\n",
              "    }\n",
              "\n",
              "    .dataframe thead th {\n",
              "        text-align: right;\n",
              "    }\n",
              "</style>\n",
              "<table border=\"1\" class=\"dataframe\">\n",
              "  <thead>\n",
              "    <tr style=\"text-align: right;\">\n",
              "      <th></th>\n",
              "      <th>Table Name</th>\n",
              "      <th>State Code</th>\n",
              "      <th>District Code</th>\n",
              "      <th>TRU</th>\n",
              "      <th>Area Name</th>\n",
              "      <th>Religion</th>\n",
              "      <th>Age Group</th>\n",
              "      <th>P_Persons</th>\n",
              "      <th>P_Males</th>\n",
              "      <th>P_Females</th>\n",
              "      <th>...</th>\n",
              "      <th>Marg_T_Females</th>\n",
              "      <th>Marg_S_Persons</th>\n",
              "      <th>Marg_S_Males</th>\n",
              "      <th>Marg_S_Females</th>\n",
              "      <th>NW_T_Persons</th>\n",
              "      <th>NW_T_Males</th>\n",
              "      <th>NW_T_Females</th>\n",
              "      <th>NW_S_Persons</th>\n",
              "      <th>NW_S_Males</th>\n",
              "      <th>NW_S_Females</th>\n",
              "    </tr>\n",
              "  </thead>\n",
              "  <tbody>\n",
              "    <tr>\n",
              "      <th>12289</th>\n",
              "      <td>B0402</td>\n",
              "      <td>32</td>\n",
              "      <td>0.0</td>\n",
              "      <td>Total</td>\n",
              "      <td>State - KERALA</td>\n",
              "      <td>All religious communities</td>\n",
              "      <td>5-9</td>\n",
              "      <td>2555112.0</td>\n",
              "      <td>1303190.0</td>\n",
              "      <td>1251922.0</td>\n",
              "      <td>...</td>\n",
              "      <td>4081.0</td>\n",
              "      <td>3780.0</td>\n",
              "      <td>1946.0</td>\n",
              "      <td>1834.0</td>\n",
              "      <td>2539348.0</td>\n",
              "      <td>1294840.0</td>\n",
              "      <td>1244508.0</td>\n",
              "      <td>38616.0</td>\n",
              "      <td>19729.0</td>\n",
              "      <td>18887.0</td>\n",
              "    </tr>\n",
              "    <tr>\n",
              "      <th>12290</th>\n",
              "      <td>B0402</td>\n",
              "      <td>32</td>\n",
              "      <td>0.0</td>\n",
              "      <td>Total</td>\n",
              "      <td>State - KERALA</td>\n",
              "      <td>All religious communities</td>\n",
              "      <td>10-14</td>\n",
              "      <td>2822770.0</td>\n",
              "      <td>1438917.0</td>\n",
              "      <td>1383853.0</td>\n",
              "      <td>...</td>\n",
              "      <td>7301.0</td>\n",
              "      <td>8386.0</td>\n",
              "      <td>4454.0</td>\n",
              "      <td>3932.0</td>\n",
              "      <td>2793098.0</td>\n",
              "      <td>1421375.0</td>\n",
              "      <td>1371723.0</td>\n",
              "      <td>90263.0</td>\n",
              "      <td>46479.0</td>\n",
              "      <td>43784.0</td>\n",
              "    </tr>\n",
              "    <tr>\n",
              "      <th>12291</th>\n",
              "      <td>B0402</td>\n",
              "      <td>32</td>\n",
              "      <td>0.0</td>\n",
              "      <td>Total</td>\n",
              "      <td>State - KERALA</td>\n",
              "      <td>All religious communities</td>\n",
              "      <td>15-19</td>\n",
              "      <td>2610552.0</td>\n",
              "      <td>1328299.0</td>\n",
              "      <td>1282253.0</td>\n",
              "      <td>...</td>\n",
              "      <td>25452.0</td>\n",
              "      <td>53953.0</td>\n",
              "      <td>34750.0</td>\n",
              "      <td>19203.0</td>\n",
              "      <td>2409371.0</td>\n",
              "      <td>1179021.0</td>\n",
              "      <td>1230350.0</td>\n",
              "      <td>744826.0</td>\n",
              "      <td>373120.0</td>\n",
              "      <td>371706.0</td>\n",
              "    </tr>\n",
              "    <tr>\n",
              "      <th>12292</th>\n",
              "      <td>B0402</td>\n",
              "      <td>32</td>\n",
              "      <td>0.0</td>\n",
              "      <td>Total</td>\n",
              "      <td>State - KERALA</td>\n",
              "      <td>All religious communities</td>\n",
              "      <td>20-24</td>\n",
              "      <td>2665809.0</td>\n",
              "      <td>1298826.0</td>\n",
              "      <td>1366983.0</td>\n",
              "      <td>...</td>\n",
              "      <td>73495.0</td>\n",
              "      <td>171921.0</td>\n",
              "      <td>114536.0</td>\n",
              "      <td>57385.0</td>\n",
              "      <td>1782045.0</td>\n",
              "      <td>617733.0</td>\n",
              "      <td>1164312.0</td>\n",
              "      <td>1033655.0</td>\n",
              "      <td>407614.0</td>\n",
              "      <td>626041.0</td>\n",
              "    </tr>\n",
              "    <tr>\n",
              "      <th>12293</th>\n",
              "      <td>B0402</td>\n",
              "      <td>32</td>\n",
              "      <td>0.0</td>\n",
              "      <td>Total</td>\n",
              "      <td>State - KERALA</td>\n",
              "      <td>All religious communities</td>\n",
              "      <td>25-29</td>\n",
              "      <td>2604092.0</td>\n",
              "      <td>1203978.0</td>\n",
              "      <td>1400114.0</td>\n",
              "      <td>...</td>\n",
              "      <td>96773.0</td>\n",
              "      <td>183500.0</td>\n",
              "      <td>114510.0</td>\n",
              "      <td>68990.0</td>\n",
              "      <td>1267231.0</td>\n",
              "      <td>178228.0</td>\n",
              "      <td>1089003.0</td>\n",
              "      <td>669761.0</td>\n",
              "      <td>130128.0</td>\n",
              "      <td>539633.0</td>\n",
              "    </tr>\n",
              "  </tbody>\n",
              "</table>\n",
              "<p>5 rows × 25 columns</p>\n",
              "</div>\n",
              "      <button class=\"colab-df-convert\" onclick=\"convertToInteractive('df-65857b9e-6498-4992-8bd4-1b857acde58c')\"\n",
              "              title=\"Convert this dataframe to an interactive table.\"\n",
              "              style=\"display:none;\">\n",
              "        \n",
              "  <svg xmlns=\"http://www.w3.org/2000/svg\" height=\"24px\"viewBox=\"0 0 24 24\"\n",
              "       width=\"24px\">\n",
              "    <path d=\"M0 0h24v24H0V0z\" fill=\"none\"/>\n",
              "    <path d=\"M18.56 5.44l.94 2.06.94-2.06 2.06-.94-2.06-.94-.94-2.06-.94 2.06-2.06.94zm-11 1L8.5 8.5l.94-2.06 2.06-.94-2.06-.94L8.5 2.5l-.94 2.06-2.06.94zm10 10l.94 2.06.94-2.06 2.06-.94-2.06-.94-.94-2.06-.94 2.06-2.06.94z\"/><path d=\"M17.41 7.96l-1.37-1.37c-.4-.4-.92-.59-1.43-.59-.52 0-1.04.2-1.43.59L10.3 9.45l-7.72 7.72c-.78.78-.78 2.05 0 2.83L4 21.41c.39.39.9.59 1.41.59.51 0 1.02-.2 1.41-.59l7.78-7.78 2.81-2.81c.8-.78.8-2.07 0-2.86zM5.41 20L4 18.59l7.72-7.72 1.47 1.35L5.41 20z\"/>\n",
              "  </svg>\n",
              "      </button>\n",
              "      \n",
              "  <style>\n",
              "    .colab-df-container {\n",
              "      display:flex;\n",
              "      flex-wrap:wrap;\n",
              "      gap: 12px;\n",
              "    }\n",
              "\n",
              "    .colab-df-convert {\n",
              "      background-color: #E8F0FE;\n",
              "      border: none;\n",
              "      border-radius: 50%;\n",
              "      cursor: pointer;\n",
              "      display: none;\n",
              "      fill: #1967D2;\n",
              "      height: 32px;\n",
              "      padding: 0 0 0 0;\n",
              "      width: 32px;\n",
              "    }\n",
              "\n",
              "    .colab-df-convert:hover {\n",
              "      background-color: #E2EBFA;\n",
              "      box-shadow: 0px 1px 2px rgba(60, 64, 67, 0.3), 0px 1px 3px 1px rgba(60, 64, 67, 0.15);\n",
              "      fill: #174EA6;\n",
              "    }\n",
              "\n",
              "    [theme=dark] .colab-df-convert {\n",
              "      background-color: #3B4455;\n",
              "      fill: #D2E3FC;\n",
              "    }\n",
              "\n",
              "    [theme=dark] .colab-df-convert:hover {\n",
              "      background-color: #434B5C;\n",
              "      box-shadow: 0px 1px 3px 1px rgba(0, 0, 0, 0.15);\n",
              "      filter: drop-shadow(0px 1px 2px rgba(0, 0, 0, 0.3));\n",
              "      fill: #FFFFFF;\n",
              "    }\n",
              "  </style>\n",
              "\n",
              "      <script>\n",
              "        const buttonEl =\n",
              "          document.querySelector('#df-65857b9e-6498-4992-8bd4-1b857acde58c button.colab-df-convert');\n",
              "        buttonEl.style.display =\n",
              "          google.colab.kernel.accessAllowed ? 'block' : 'none';\n",
              "\n",
              "        async function convertToInteractive(key) {\n",
              "          const element = document.querySelector('#df-65857b9e-6498-4992-8bd4-1b857acde58c');\n",
              "          const dataTable =\n",
              "            await google.colab.kernel.invokeFunction('convertToInteractive',\n",
              "                                                     [key], {});\n",
              "          if (!dataTable) return;\n",
              "\n",
              "          const docLinkHtml = 'Like what you see? Visit the ' +\n",
              "            '<a target=\"_blank\" href=https://colab.research.google.com/notebooks/data_table.ipynb>data table notebook</a>'\n",
              "            + ' to learn more about interactive tables.';\n",
              "          element.innerHTML = '';\n",
              "          dataTable['output_type'] = 'display_data';\n",
              "          await google.colab.output.renderOutput(dataTable, element);\n",
              "          const docLink = document.createElement('div');\n",
              "          docLink.innerHTML = docLinkHtml;\n",
              "          element.appendChild(docLink);\n",
              "        }\n",
              "      </script>\n",
              "    </div>\n",
              "  </div>\n",
              "  "
            ]
          },
          "metadata": {},
          "execution_count": 117
        }
      ]
    },
    {
      "cell_type": "code",
      "source": [
        "#lets see this also as stacked bar graph\n",
        "\n",
        "dfmma_A.plot(x='Age Group',y=['Main_Persons','Marg_T_Persons','NW_T_Persons'],kind='bar',stacked=True)\n",
        "\n",
        "plt.title('Distribution of main workers, marginal workers and non-workers by age-group',fontweight='bold',y=1.08)\n",
        "plt.xlabel('Age Group',fontweight='bold')\n",
        "plt.ylabel('Worker Population(in milllions)',fontweight='bold')"
      ],
      "metadata": {
        "colab": {
          "base_uri": "https://localhost:8080/",
          "height": 394
        },
        "id": "ety-2nhJrypJ",
        "outputId": "e6444833-1e10-462c-ba48-0c519e8c2a4c"
      },
      "execution_count": 118,
      "outputs": [
        {
          "output_type": "execute_result",
          "data": {
            "text/plain": [
              "Text(0, 0.5, 'Worker Population(in milllions)')"
            ]
          },
          "metadata": {},
          "execution_count": 118
        },
        {
          "output_type": "display_data",
          "data": {
            "text/plain": [
              "<Figure size 432x288 with 1 Axes>"
            ],
            "image/png": "[encoded data removed]"
          },
          "metadata": {
            "needs_background": "light"
          }
        }
      ]
    },
    {
      "cell_type": "markdown",
      "source": [
        "#Distribution of main workers, marginal workers and non-workers by rural/urban\n"
      ],
      "metadata": {
        "id": "HlaCv9hZrdAm"
      }
    },
    {
      "cell_type": "code",
      "source": [
        "dfk_N=dfk.drop(dfk.index[dfk['TRU']=='Total'])\n",
        "dfk_N=dfk_N.groupby('Religion')\n",
        "dfru=dfk_N.get_group('All religious communities')\n",
        "\n",
        "dfru=dfru.groupby('Age Group')\n",
        "dfru_T=dfru.get_group('Total')\n",
        "\n",
        "dfru_T['Marg_TS_Persons']=dfru_T['Marg_T_Persons']+dfru_T['Marg_S_Persons']\n",
        "dfru_T['NW_TS_Persons']=dfru_T['NW_T_Persons']+dfru_T['NW_S_Persons']\n",
        "\n",
        "dfru_T.head()"
      ],
      "metadata": {
        "colab": {
          "base_uri": "https://localhost:8080/",
          "height": 477
        },
        "id": "-78eshX-so0P",
        "outputId": "7832b564-c3d3-4668-a739-fb490a0ea33a"
      },
      "execution_count": 119,
      "outputs": [
        {
          "output_type": "stream",
          "name": "stderr",
          "text": [
            "<ipython-input-119-008199e1b588>:8: SettingWithCopyWarning: \n",
            "A value is trying to be set on a copy of a slice from a DataFrame.\n",
            "Try using .loc[row_indexer,col_indexer] = value instead\n",
            "\n",
            "See the caveats in the documentation: https://pandas.pydata.org/pandas-docs/stable/user_guide/indexing.html#returning-a-view-versus-a-copy\n",
            "  dfru_T['Marg_TS_Persons']=dfru_T['Marg_T_Persons']+dfru_T['Marg_S_Persons']\n",
            "<ipython-input-119-008199e1b588>:9: SettingWithCopyWarning: \n",
            "A value is trying to be set on a copy of a slice from a DataFrame.\n",
            "Try using .loc[row_indexer,col_indexer] = value instead\n",
            "\n",
            "See the caveats in the documentation: https://pandas.pydata.org/pandas-docs/stable/user_guide/indexing.html#returning-a-view-versus-a-copy\n",
            "  dfru_T['NW_TS_Persons']=dfru_T['NW_T_Persons']+dfru_T['NW_S_Persons']\n"
          ]
        },
        {
          "output_type": "execute_result",
          "data": {
            "text/plain": [
              "      Table Name State Code  District Code    TRU       Area Name  \\\n",
              "12416      B0502         32            0.0  Rural  State - KERALA   \n",
              "12544      B0602         32            0.0  Urban  State - KERALA   \n",
              "\n",
              "                        Religion Age Group   P_Persons    P_Males  P_Females  \\\n",
              "12416  All religious communities     Total  17471135.0  8408054.0  9063081.0   \n",
              "12544  All religious communities     Total  15934926.0  7619358.0  8315568.0   \n",
              "\n",
              "       ...  Marg_S_Males  Marg_S_Females  NW_T_Persons  NW_T_Males  \\\n",
              "12416  ...      383270.0        297301.0    11129178.0   3900553.0   \n",
              "12544  ...      253878.0        182222.0    10657820.0   3675290.0   \n",
              "\n",
              "       NW_T_Females  NW_S_Persons  NW_S_Males  NW_S_Females  Marg_TS_Persons  \\\n",
              "12416     7228625.0     2056498.0    609165.0     1447333.0        2092337.0   \n",
              "12544     6982530.0     1864714.0    547950.0     1316764.0        1313650.0   \n",
              "\n",
              "       NW_TS_Persons  \n",
              "12416     13185676.0  \n",
              "12544     12522534.0  \n",
              "\n",
              "[2 rows x 27 columns]"
            ],
            "text/html": [
              "\n",
              "  <div id=\"df-5fb31360-e859-473c-bea0-e32ea3e5b350\">\n",
              "    <div class=\"colab-df-container\">\n",
              "      <div>\n",
              "<style scoped>\n",
              "    .dataframe tbody tr th:only-of-type {\n",
              "        vertical-align: middle;\n",
              "    }\n",
              "\n",
              "    .dataframe tbody tr th {\n",
              "        vertical-align: top;\n",
              "    }\n",
              "\n",
              "    .dataframe thead th {\n",
              "        text-align: right;\n",
              "    }\n",
              "</style>\n",
              "<table border=\"1\" class=\"dataframe\">\n",
              "  <thead>\n",
              "    <tr style=\"text-align: right;\">\n",
              "      <th></th>\n",
              "      <th>Table Name</th>\n",
              "      <th>State Code</th>\n",
              "      <th>District Code</th>\n",
              "      <th>TRU</th>\n",
              "      <th>Area Name</th>\n",
              "      <th>Religion</th>\n",
              "      <th>Age Group</th>\n",
              "      <th>P_Persons</th>\n",
              "      <th>P_Males</th>\n",
              "      <th>P_Females</th>\n",
              "      <th>...</th>\n",
              "      <th>Marg_S_Males</th>\n",
              "      <th>Marg_S_Females</th>\n",
              "      <th>NW_T_Persons</th>\n",
              "      <th>NW_T_Males</th>\n",
              "      <th>NW_T_Females</th>\n",
              "      <th>NW_S_Persons</th>\n",
              "      <th>NW_S_Males</th>\n",
              "      <th>NW_S_Females</th>\n",
              "      <th>Marg_TS_Persons</th>\n",
              "      <th>NW_TS_Persons</th>\n",
              "    </tr>\n",
              "  </thead>\n",
              "  <tbody>\n",
              "    <tr>\n",
              "      <th>12416</th>\n",
              "      <td>B0502</td>\n",
              "      <td>32</td>\n",
              "      <td>0.0</td>\n",
              "      <td>Rural</td>\n",
              "      <td>State - KERALA</td>\n",
              "      <td>All religious communities</td>\n",
              "      <td>Total</td>\n",
              "      <td>17471135.0</td>\n",
              "      <td>8408054.0</td>\n",
              "      <td>9063081.0</td>\n",
              "      <td>...</td>\n",
              "      <td>383270.0</td>\n",
              "      <td>297301.0</td>\n",
              "      <td>11129178.0</td>\n",
              "      <td>3900553.0</td>\n",
              "      <td>7228625.0</td>\n",
              "      <td>2056498.0</td>\n",
              "      <td>609165.0</td>\n",
              "      <td>1447333.0</td>\n",
              "      <td>2092337.0</td>\n",
              "      <td>13185676.0</td>\n",
              "    </tr>\n",
              "    <tr>\n",
              "      <th>12544</th>\n",
              "      <td>B0602</td>\n",
              "      <td>32</td>\n",
              "      <td>0.0</td>\n",
              "      <td>Urban</td>\n",
              "      <td>State - KERALA</td>\n",
              "      <td>All religious communities</td>\n",
              "      <td>Total</td>\n",
              "      <td>15934926.0</td>\n",
              "      <td>7619358.0</td>\n",
              "      <td>8315568.0</td>\n",
              "      <td>...</td>\n",
              "      <td>253878.0</td>\n",
              "      <td>182222.0</td>\n",
              "      <td>10657820.0</td>\n",
              "      <td>3675290.0</td>\n",
              "      <td>6982530.0</td>\n",
              "      <td>1864714.0</td>\n",
              "      <td>547950.0</td>\n",
              "      <td>1316764.0</td>\n",
              "      <td>1313650.0</td>\n",
              "      <td>12522534.0</td>\n",
              "    </tr>\n",
              "  </tbody>\n",
              "</table>\n",
              "<p>2 rows × 27 columns</p>\n",
              "</div>\n",
              "      <button class=\"colab-df-convert\" onclick=\"convertToInteractive('df-5fb31360-e859-473c-bea0-e32ea3e5b350')\"\n",
              "              title=\"Convert this dataframe to an interactive table.\"\n",
              "              style=\"display:none;\">\n",
              "        \n",
              "  <svg xmlns=\"http://www.w3.org/2000/svg\" height=\"24px\"viewBox=\"0 0 24 24\"\n",
              "       width=\"24px\">\n",
              "    <path d=\"M0 0h24v24H0V0z\" fill=\"none\"/>\n",
              "    <path d=\"M18.56 5.44l.94 2.06.94-2.06 2.06-.94-2.06-.94-.94-2.06-.94 2.06-2.06.94zm-11 1L8.5 8.5l.94-2.06 2.06-.94-2.06-.94L8.5 2.5l-.94 2.06-2.06.94zm10 10l.94 2.06.94-2.06 2.06-.94-2.06-.94-.94-2.06-.94 2.06-2.06.94z\"/><path d=\"M17.41 7.96l-1.37-1.37c-.4-.4-.92-.59-1.43-.59-.52 0-1.04.2-1.43.59L10.3 9.45l-7.72 7.72c-.78.78-.78 2.05 0 2.83L4 21.41c.39.39.9.59 1.41.59.51 0 1.02-.2 1.41-.59l7.78-7.78 2.81-2.81c.8-.78.8-2.07 0-2.86zM5.41 20L4 18.59l7.72-7.72 1.47 1.35L5.41 20z\"/>\n",
              "  </svg>\n",
              "      </button>\n",
              "      \n",
              "  <style>\n",
              "    .colab-df-container {\n",
              "      display:flex;\n",
              "      flex-wrap:wrap;\n",
              "      gap: 12px;\n",
              "    }\n",
              "\n",
              "    .colab-df-convert {\n",
              "      background-color: #E8F0FE;\n",
              "      border: none;\n",
              "      border-radius: 50%;\n",
              "      cursor: pointer;\n",
              "      display: none;\n",
              "      fill: #1967D2;\n",
              "      height: 32px;\n",
              "      padding: 0 0 0 0;\n",
              "      width: 32px;\n",
              "    }\n",
              "\n",
              "    .colab-df-convert:hover {\n",
              "      background-color: #E2EBFA;\n",
              "      box-shadow: 0px 1px 2px rgba(60, 64, 67, 0.3), 0px 1px 3px 1px rgba(60, 64, 67, 0.15);\n",
              "      fill: #174EA6;\n",
              "    }\n",
              "\n",
              "    [theme=dark] .colab-df-convert {\n",
              "      background-color: #3B4455;\n",
              "      fill: #D2E3FC;\n",
              "    }\n",
              "\n",
              "    [theme=dark] .colab-df-convert:hover {\n",
              "      background-color: #434B5C;\n",
              "      box-shadow: 0px 1px 3px 1px rgba(0, 0, 0, 0.15);\n",
              "      filter: drop-shadow(0px 1px 2px rgba(0, 0, 0, 0.3));\n",
              "      fill: #FFFFFF;\n",
              "    }\n",
              "  </style>\n",
              "\n",
              "      <script>\n",
              "        const buttonEl =\n",
              "          document.querySelector('#df-5fb31360-e859-473c-bea0-e32ea3e5b350 button.colab-df-convert');\n",
              "        buttonEl.style.display =\n",
              "          google.colab.kernel.accessAllowed ? 'block' : 'none';\n",
              "\n",
              "        async function convertToInteractive(key) {\n",
              "          const element = document.querySelector('#df-5fb31360-e859-473c-bea0-e32ea3e5b350');\n",
              "          const dataTable =\n",
              "            await google.colab.kernel.invokeFunction('convertToInteractive',\n",
              "                                                     [key], {});\n",
              "          if (!dataTable) return;\n",
              "\n",
              "          const docLinkHtml = 'Like what you see? Visit the ' +\n",
              "            '<a target=\"_blank\" href=https://colab.research.google.com/notebooks/data_table.ipynb>data table notebook</a>'\n",
              "            + ' to learn more about interactive tables.';\n",
              "          element.innerHTML = '';\n",
              "          dataTable['output_type'] = 'display_data';\n",
              "          await google.colab.output.renderOutput(dataTable, element);\n",
              "          const docLink = document.createElement('div');\n",
              "          docLink.innerHTML = docLinkHtml;\n",
              "          element.appendChild(docLink);\n",
              "        }\n",
              "      </script>\n",
              "    </div>\n",
              "  </div>\n",
              "  "
            ]
          },
          "metadata": {},
          "execution_count": 119
        }
      ]
    },
    {
      "cell_type": "code",
      "source": [
        "dfru_T.plot(x='TRU',y=['Main_Persons','Marg_TS_Persons','NW_TS_Persons'],kind='bar').legend(loc='upper right',ncol=1, title=\"Worker Category\")\n",
        "\n",
        "plt.title('Distribution of main workers, marginal workers and non-workers by rural/urban',fontweight='bold',y=1.08)\n",
        "plt.xlabel('Area of Residence',fontweight='bold')\n",
        "plt.ylabel('Worker Population(in ten milllions)',fontweight='bold')"
      ],
      "metadata": {
        "colab": {
          "base_uri": "https://localhost:8080/",
          "height": 351
        },
        "id": "2UyDfQBEs8iX",
        "outputId": "500dffc6-8aa3-4552-e91f-0647c9668425"
      },
      "execution_count": 120,
      "outputs": [
        {
          "output_type": "execute_result",
          "data": {
            "text/plain": [
              "Text(0, 0.5, 'Worker Population(in ten milllions)')"
            ]
          },
          "metadata": {},
          "execution_count": 120
        },
        {
          "output_type": "display_data",
          "data": {
            "text/plain": [
              "<Figure size 432x288 with 1 Axes>"
            ],
            "image/png": "[encoded data removed]"
          },
          "metadata": {
            "needs_background": "light"
          }
        }
      ]
    },
    {
      "cell_type": "markdown",
      "source": [
        "#Distribution of main workers, marginal workers and non-workers by religion by gender\n"
      ],
      "metadata": {
        "id": "KDFkia4Xrg82"
      }
    },
    {
      "cell_type": "code",
      "source": [
        "y = range(0, len(dfmmr_AT))\n",
        "\n",
        "Main_T_Males=dfmmr_AT['Main_Males']\n",
        "Main_T_Females=dfmmr_AT['Main_Females']\n",
        "Marg_T_Males=dfmmr_AT['Marg_T_Males']\n",
        "Marg_T_Females=dfmmr_AT['Marg_T_Females']\n",
        "NW_T_Males=dfmmr_AT['NW_T_Males']\n",
        "NW_T_Females=dfmmr_AT['NW_T_Females']\n",
        "\n"
      ],
      "metadata": {
        "id": "xvGDYbNztFg8"
      },
      "execution_count": 121,
      "outputs": []
    },
    {
      "cell_type": "code",
      "source": [
        "#define plot parameters\n",
        "fig, axes = plt.subplots(ncols=6, sharey=True, figsize=(9, 6))\n",
        "\n",
        "plt.figtext(0.5,1,\"Distribution of main workers, marginal workers and non-workers by religion by gender\", fontsize=16, ha='center')\n",
        "    \n",
        "#define male and female bars\n",
        "axes[0].barh(y, Main_T_Males, align='center', color='royalblue')\n",
        "axes[0].set(title='Males(Main)')\n",
        "axes[1].barh(y, Main_T_Females, align='center', color='lightpink')\n",
        "axes[1].set(title='Females(Main)')\n",
        "axes[2].barh(y, Marg_T_Males, align='center', color='black')\n",
        "axes[2].set(title='Males(Marg)',xlabel='Worker Population')\n",
        "axes[3].barh(y, Marg_T_Females, align='center', color='red')\n",
        "axes[3].set(title='Females(Marg)')\n",
        "axes[4].barh(y, NW_T_Males, align='center', color='yellow')\n",
        "axes[4].set(title='Males(NW)')\n",
        "axes[5].barh(y, NW_T_Females, align='center', color='green')\n",
        "axes[5].set(title='Females(NW)')\n",
        "#adjust grid parameters and specify labels for y-axis\n",
        "#axes[1].grid()\n",
        "axes[0].set(yticks=y, yticklabels=dfmmr_AT['Religion'],ylabel='Religion')\n",
        "axes[0].invert_xaxis()\n",
        "#axes[0].grid()\n",
        "#axes[3].grid()\n",
        "#axes[2].set(yticks=y, yticklabels=dfg['Name'])\n",
        "axes[2].invert_xaxis()\n",
        "axes[4].invert_xaxis()\n",
        "#axes[2].grid()\n",
        "for i in range(0,6):\n",
        "  print(axes[i].grid())\n",
        "#display plot\n",
        "plt.show()"
      ],
      "metadata": {
        "colab": {
          "base_uri": "https://localhost:8080/",
          "height": 562
        },
        "id": "fGWTNttxtk2Z",
        "outputId": "d39f24c9-4a3b-478c-e780-26b3f4cab948"
      },
      "execution_count": 122,
      "outputs": [
        {
          "output_type": "stream",
          "name": "stdout",
          "text": [
            "None\n",
            "None\n",
            "None\n",
            "None\n",
            "None\n",
            "None\n"
          ]
        },
        {
          "output_type": "display_data",
          "data": {
            "text/plain": [
              "<Figure size 648x432 with 6 Axes>"
            ],
            "image/png": "[encoded data removed]"
          },
          "metadata": {
            "needs_background": "light"
          }
        }
      ]
    },
    {
      "cell_type": "markdown",
      "source": [
        "#LFPR of Kerala by Gender\n"
      ],
      "metadata": {
        "id": "CbXiJDiSwbnw"
      }
    },
    {
      "cell_type": "code",
      "source": [
        "dflfpr=dfmmr_T.groupby('Religion')\n",
        "dflfpr=dflfpr.get_group('All religious communities')\n",
        "\n",
        "x=dflfpr.groupby('Age Group')\n",
        "\n",
        "dfmmr_AT0=x.get_group('15-59')\n",
        "dfmmr_AT1=x.get_group('20-24')\n",
        "dfmmr_AT2=x.get_group('25-29')\n",
        "dfmmr_AT3=x.get_group('30-34')\n",
        "dfmmr_AT4=x.get_group('35-39')\n",
        "dfmmr_AT5=x.get_group('40-49')\n",
        "\n",
        "dfmmr_AT1['T_R_Males']=dfmmr_AT0['P_Males'].values+dfmmr_AT1['P_Males'].values+dfmmr_AT2['P_Males'].values+dfmmr_AT3['P_Males'].values+dfmmr_AT4['P_Males'].values+dfmmr_AT5['P_Males'].values\n",
        "dfmmr_AT1['T_R_Females']=dfmmr_AT0['P_Females'].values+dfmmr_AT1['P_Females'].values+dfmmr_AT2['P_Females'].values+dfmmr_AT3['P_Females'].values+dfmmr_AT4['P_Females'].values+dfmmr_AT5['P_Females'].values\n",
        "\n",
        "dfmmr_AT1['LFP_Males']=dfmmr_AT0['Main_Males'].values+dfmmr_AT0['Marg_T_Males'].values+dfmmr_AT0['Marg_S_Males'].values+dfmmr_AT0['NW_S_Males'].values+dfmmr_AT1['Main_Males'].values+dfmmr_AT1['Marg_T_Males'].values+dfmmr_AT1['Marg_S_Males'].values+dfmmr_AT1['NW_S_Males'].values+dfmmr_AT2['Main_Males'].values+dfmmr_AT2['Marg_T_Males'].values+dfmmr_AT2['Marg_S_Males'].values+dfmmr_AT2['NW_S_Males'].values+dfmmr_AT3['Main_Males'].values+dfmmr_AT3['Marg_T_Males'].values+dfmmr_AT3['Marg_S_Males'].values+dfmmr_AT3['NW_S_Males'].values+dfmmr_AT4['Main_Males'].values+dfmmr_AT4['Marg_T_Males'].values+dfmmr_AT4['Marg_S_Males'].values+dfmmr_AT4['NW_S_Males'].values+dfmmr_AT5['Main_Males'].values+dfmmr_AT5['Marg_T_Males'].values+dfmmr_AT5['Marg_S_Males'].values+dfmmr_AT5['NW_S_Males'].values\n",
        "dfmmr_AT1['LFP_Females']=dfmmr_AT0['Main_Females'].values+dfmmr_AT0['Marg_T_Females'].values+dfmmr_AT0['Marg_S_Females'].values+dfmmr_AT0['NW_S_Females'].values+dfmmr_AT1['Main_Females'].values+dfmmr_AT1['Marg_T_Females'].values+dfmmr_AT1['Marg_S_Females'].values+dfmmr_AT1['NW_S_Females'].values+dfmmr_AT2['Main_Females'].values+dfmmr_AT2['Marg_T_Females'].values+dfmmr_AT2['Marg_S_Females'].values+dfmmr_AT2['NW_S_Females'].values+dfmmr_AT3['Main_Females'].values+dfmmr_AT3['Marg_T_Females'].values+dfmmr_AT3['Marg_S_Females'].values+dfmmr_AT3['NW_S_Females'].values+dfmmr_AT4['Main_Females'].values+dfmmr_AT4['Marg_T_Females'].values+dfmmr_AT4['Marg_S_Females'].values+dfmmr_AT4['NW_S_Females'].values+dfmmr_AT5['Main_Females'].values+dfmmr_AT5['Marg_T_Females'].values+dfmmr_AT5['Marg_S_Females'].values+dfmmr_AT5['NW_S_Females'].values\n",
        "\n",
        "dfmmr_AT1['LFPR_Males']=(dfmmr_AT1['LFP_Males']/dfmmr_AT1['T_R_Males'])*100\n",
        "dfmmr_AT1['LFPR_Females']=(dfmmr_AT1['LFP_Females']/dfmmr_AT1['T_R_Females'])*100\n",
        "\n",
        "data_lfpr=[['Males',dfmmr_AT1['LFPR_Males'].values.sum()],['Females',dfmmr_AT1['LFPR_Females'].values.sum()]]\n",
        "df_lfpr= pd.DataFrame(data_lfpr, columns=['Gender', 'LFPR(in Percentage'])\n",
        "\n",
        "df_lfpr.head()"
      ],
      "metadata": {
        "colab": {
          "base_uri": "https://localhost:8080/",
          "height": 790
        },
        "id": "FwxD1OlFvhAq",
        "outputId": "d0732064-8cae-42c5-e32a-c2d0136e9596"
      },
      "execution_count": 123,
      "outputs": [
        {
          "output_type": "stream",
          "name": "stderr",
          "text": [
            "<ipython-input-123-fda5b98ee064>:13: SettingWithCopyWarning: \n",
            "A value is trying to be set on a copy of a slice from a DataFrame.\n",
            "Try using .loc[row_indexer,col_indexer] = value instead\n",
            "\n",
            "See the caveats in the documentation: https://pandas.pydata.org/pandas-docs/stable/user_guide/indexing.html#returning-a-view-versus-a-copy\n",
            "  dfmmr_AT1['T_R_Males']=dfmmr_AT0['P_Males'].values+dfmmr_AT1['P_Males'].values+dfmmr_AT2['P_Males'].values+dfmmr_AT3['P_Males'].values+dfmmr_AT4['P_Males'].values+dfmmr_AT5['P_Males'].values\n",
            "<ipython-input-123-fda5b98ee064>:14: SettingWithCopyWarning: \n",
            "A value is trying to be set on a copy of a slice from a DataFrame.\n",
            "Try using .loc[row_indexer,col_indexer] = value instead\n",
            "\n",
            "See the caveats in the documentation: https://pandas.pydata.org/pandas-docs/stable/user_guide/indexing.html#returning-a-view-versus-a-copy\n",
            "  dfmmr_AT1['T_R_Females']=dfmmr_AT0['P_Females'].values+dfmmr_AT1['P_Females'].values+dfmmr_AT2['P_Females'].values+dfmmr_AT3['P_Females'].values+dfmmr_AT4['P_Females'].values+dfmmr_AT5['P_Females'].values\n",
            "<ipython-input-123-fda5b98ee064>:16: SettingWithCopyWarning: \n",
            "A value is trying to be set on a copy of a slice from a DataFrame.\n",
            "Try using .loc[row_indexer,col_indexer] = value instead\n",
            "\n",
            "See the caveats in the documentation: https://pandas.pydata.org/pandas-docs/stable/user_guide/indexing.html#returning-a-view-versus-a-copy\n",
            "  dfmmr_AT1['LFP_Males']=dfmmr_AT0['Main_Males'].values+dfmmr_AT0['Marg_T_Males'].values+dfmmr_AT0['Marg_S_Males'].values+dfmmr_AT0['NW_S_Males'].values+dfmmr_AT1['Main_Males'].values+dfmmr_AT1['Marg_T_Males'].values+dfmmr_AT1['Marg_S_Males'].values+dfmmr_AT1['NW_S_Males'].values+dfmmr_AT2['Main_Males'].values+dfmmr_AT2['Marg_T_Males'].values+dfmmr_AT2['Marg_S_Males'].values+dfmmr_AT2['NW_S_Males'].values+dfmmr_AT3['Main_Males'].values+dfmmr_AT3['Marg_T_Males'].values+dfmmr_AT3['Marg_S_Males'].values+dfmmr_AT3['NW_S_Males'].values+dfmmr_AT4['Main_Males'].values+dfmmr_AT4['Marg_T_Males'].values+dfmmr_AT4['Marg_S_Males'].values+dfmmr_AT4['NW_S_Males'].values+dfmmr_AT5['Main_Males'].values+dfmmr_AT5['Marg_T_Males'].values+dfmmr_AT5['Marg_S_Males'].values+dfmmr_AT5['NW_S_Males'].values\n",
            "<ipython-input-123-fda5b98ee064>:17: SettingWithCopyWarning: \n",
            "A value is trying to be set on a copy of a slice from a DataFrame.\n",
            "Try using .loc[row_indexer,col_indexer] = value instead\n",
            "\n",
            "See the caveats in the documentation: https://pandas.pydata.org/pandas-docs/stable/user_guide/indexing.html#returning-a-view-versus-a-copy\n",
            "  dfmmr_AT1['LFP_Females']=dfmmr_AT0['Main_Females'].values+dfmmr_AT0['Marg_T_Females'].values+dfmmr_AT0['Marg_S_Females'].values+dfmmr_AT0['NW_S_Females'].values+dfmmr_AT1['Main_Females'].values+dfmmr_AT1['Marg_T_Females'].values+dfmmr_AT1['Marg_S_Females'].values+dfmmr_AT1['NW_S_Females'].values+dfmmr_AT2['Main_Females'].values+dfmmr_AT2['Marg_T_Females'].values+dfmmr_AT2['Marg_S_Females'].values+dfmmr_AT2['NW_S_Females'].values+dfmmr_AT3['Main_Females'].values+dfmmr_AT3['Marg_T_Females'].values+dfmmr_AT3['Marg_S_Females'].values+dfmmr_AT3['NW_S_Females'].values+dfmmr_AT4['Main_Females'].values+dfmmr_AT4['Marg_T_Females'].values+dfmmr_AT4['Marg_S_Females'].values+dfmmr_AT4['NW_S_Females'].values+dfmmr_AT5['Main_Females'].values+dfmmr_AT5['Marg_T_Females'].values+dfmmr_AT5['Marg_S_Females'].values+dfmmr_AT5['NW_S_Females'].values\n",
            "<ipython-input-123-fda5b98ee064>:19: SettingWithCopyWarning: \n",
            "A value is trying to be set on a copy of a slice from a DataFrame.\n",
            "Try using .loc[row_indexer,col_indexer] = value instead\n",
            "\n",
            "See the caveats in the documentation: https://pandas.pydata.org/pandas-docs/stable/user_guide/indexing.html#returning-a-view-versus-a-copy\n",
            "  dfmmr_AT1['LFPR_Males']=(dfmmr_AT1['LFP_Males']/dfmmr_AT1['T_R_Males'])*100\n",
            "<ipython-input-123-fda5b98ee064>:20: SettingWithCopyWarning: \n",
            "A value is trying to be set on a copy of a slice from a DataFrame.\n",
            "Try using .loc[row_indexer,col_indexer] = value instead\n",
            "\n",
            "See the caveats in the documentation: https://pandas.pydata.org/pandas-docs/stable/user_guide/indexing.html#returning-a-view-versus-a-copy\n",
            "  dfmmr_AT1['LFPR_Females']=(dfmmr_AT1['LFP_Females']/dfmmr_AT1['T_R_Females'])*100\n"
          ]
        },
        {
          "output_type": "execute_result",
          "data": {
            "text/plain": [
              "    Gender  LFPR(in Percentage\n",
              "0    Males           95.768659\n",
              "1  Females           56.839772"
            ],
            "text/html": [
              "\n",
              "  <div id=\"df-f2f1f1f0-15ea-40f2-8e77-bd0772ba9e0d\">\n",
              "    <div class=\"colab-df-container\">\n",
              "      <div>\n",
              "<style scoped>\n",
              "    .dataframe tbody tr th:only-of-type {\n",
              "        vertical-align: middle;\n",
              "    }\n",
              "\n",
              "    .dataframe tbody tr th {\n",
              "        vertical-align: top;\n",
              "    }\n",
              "\n",
              "    .dataframe thead th {\n",
              "        text-align: right;\n",
              "    }\n",
              "</style>\n",
              "<table border=\"1\" class=\"dataframe\">\n",
              "  <thead>\n",
              "    <tr style=\"text-align: right;\">\n",
              "      <th></th>\n",
              "      <th>Gender</th>\n",
              "      <th>LFPR(in Percentage</th>\n",
              "    </tr>\n",
              "  </thead>\n",
              "  <tbody>\n",
              "    <tr>\n",
              "      <th>0</th>\n",
              "      <td>Males</td>\n",
              "      <td>95.768659</td>\n",
              "    </tr>\n",
              "    <tr>\n",
              "      <th>1</th>\n",
              "      <td>Females</td>\n",
              "      <td>56.839772</td>\n",
              "    </tr>\n",
              "  </tbody>\n",
              "</table>\n",
              "</div>\n",
              "      <button class=\"colab-df-convert\" onclick=\"convertToInteractive('df-f2f1f1f0-15ea-40f2-8e77-bd0772ba9e0d')\"\n",
              "              title=\"Convert this dataframe to an interactive table.\"\n",
              "              style=\"display:none;\">\n",
              "        \n",
              "  <svg xmlns=\"http://www.w3.org/2000/svg\" height=\"24px\"viewBox=\"0 0 24 24\"\n",
              "       width=\"24px\">\n",
              "    <path d=\"M0 0h24v24H0V0z\" fill=\"none\"/>\n",
              "    <path d=\"M18.56 5.44l.94 2.06.94-2.06 2.06-.94-2.06-.94-.94-2.06-.94 2.06-2.06.94zm-11 1L8.5 8.5l.94-2.06 2.06-.94-2.06-.94L8.5 2.5l-.94 2.06-2.06.94zm10 10l.94 2.06.94-2.06 2.06-.94-2.06-.94-.94-2.06-.94 2.06-2.06.94z\"/><path d=\"M17.41 7.96l-1.37-1.37c-.4-.4-.92-.59-1.43-.59-.52 0-1.04.2-1.43.59L10.3 9.45l-7.72 7.72c-.78.78-.78 2.05 0 2.83L4 21.41c.39.39.9.59 1.41.59.51 0 1.02-.2 1.41-.59l7.78-7.78 2.81-2.81c.8-.78.8-2.07 0-2.86zM5.41 20L4 18.59l7.72-7.72 1.47 1.35L5.41 20z\"/>\n",
              "  </svg>\n",
              "      </button>\n",
              "      \n",
              "  <style>\n",
              "    .colab-df-container {\n",
              "      display:flex;\n",
              "      flex-wrap:wrap;\n",
              "      gap: 12px;\n",
              "    }\n",
              "\n",
              "    .colab-df-convert {\n",
              "      background-color: #E8F0FE;\n",
              "      border: none;\n",
              "      border-radius: 50%;\n",
              "      cursor: pointer;\n",
              "      display: none;\n",
              "      fill: #1967D2;\n",
              "      height: 32px;\n",
              "      padding: 0 0 0 0;\n",
              "      width: 32px;\n",
              "    }\n",
              "\n",
              "    .colab-df-convert:hover {\n",
              "      background-color: #E2EBFA;\n",
              "      box-shadow: 0px 1px 2px rgba(60, 64, 67, 0.3), 0px 1px 3px 1px rgba(60, 64, 67, 0.15);\n",
              "      fill: #174EA6;\n",
              "    }\n",
              "\n",
              "    [theme=dark] .colab-df-convert {\n",
              "      background-color: #3B4455;\n",
              "      fill: #D2E3FC;\n",
              "    }\n",
              "\n",
              "    [theme=dark] .colab-df-convert:hover {\n",
              "      background-color: #434B5C;\n",
              "      box-shadow: 0px 1px 3px 1px rgba(0, 0, 0, 0.15);\n",
              "      filter: drop-shadow(0px 1px 2px rgba(0, 0, 0, 0.3));\n",
              "      fill: #FFFFFF;\n",
              "    }\n",
              "  </style>\n",
              "\n",
              "      <script>\n",
              "        const buttonEl =\n",
              "          document.querySelector('#df-f2f1f1f0-15ea-40f2-8e77-bd0772ba9e0d button.colab-df-convert');\n",
              "        buttonEl.style.display =\n",
              "          google.colab.kernel.accessAllowed ? 'block' : 'none';\n",
              "\n",
              "        async function convertToInteractive(key) {\n",
              "          const element = document.querySelector('#df-f2f1f1f0-15ea-40f2-8e77-bd0772ba9e0d');\n",
              "          const dataTable =\n",
              "            await google.colab.kernel.invokeFunction('convertToInteractive',\n",
              "                                                     [key], {});\n",
              "          if (!dataTable) return;\n",
              "\n",
              "          const docLinkHtml = 'Like what you see? Visit the ' +\n",
              "            '<a target=\"_blank\" href=https://colab.research.google.com/notebooks/data_table.ipynb>data table notebook</a>'\n",
              "            + ' to learn more about interactive tables.';\n",
              "          element.innerHTML = '';\n",
              "          dataTable['output_type'] = 'display_data';\n",
              "          await google.colab.output.renderOutput(dataTable, element);\n",
              "          const docLink = document.createElement('div');\n",
              "          docLink.innerHTML = docLinkHtml;\n",
              "          element.appendChild(docLink);\n",
              "        }\n",
              "      </script>\n",
              "    </div>\n",
              "  </div>\n",
              "  "
            ]
          },
          "metadata": {},
          "execution_count": 123
        }
      ]
    },
    {
      "cell_type": "code",
      "source": [
        "#lets visualise it\n",
        "\n",
        "sns.barplot(x='Gender', y='LFPR(in Percentage',data=df_lfpr)\n",
        "plt.title('LFPR of Kerala for the Age Group 15-50 by Gender',fontweight='bold',y=1.08)\n",
        "plt.xlabel('Gender',fontweight='bold')\n",
        "plt.ylabel('LFPR population (in percentage)',fontweight='bold')"
      ],
      "metadata": {
        "colab": {
          "base_uri": "https://localhost:8080/",
          "height": 331
        },
        "id": "zQES7ZWSwOKD",
        "outputId": "b77b6d20-33e0-4fcf-fca2-d065dffd720c"
      },
      "execution_count": 124,
      "outputs": [
        {
          "output_type": "execute_result",
          "data": {
            "text/plain": [
              "Text(0, 0.5, 'LFPR population (in percentage)')"
            ]
          },
          "metadata": {},
          "execution_count": 124
        },
        {
          "output_type": "display_data",
          "data": {
            "text/plain": [
              "<Figure size 432x288 with 1 Axes>"
            ],
            "image/png": "[encoded data removed]"
          },
          "metadata": {
            "needs_background": "light"
          }
        }
      ]
    },
    {
      "cell_type": "markdown",
      "source": [
        "#Distribution of occupational categories by gender"
      ],
      "metadata": {
        "id": "qmg5A9GQw_oA"
      }
    },
    {
      "cell_type": "code",
      "source": [
        "dfmmr_Ax=dflfpr.groupby('Age Group')\n",
        "dfmmr_ATx=dfmmr_Ax.get_group('Total')\n",
        "\n",
        "data_last=(['Main Workers',dfmmr_ATx['Main_Males'].sum(),dfmmr_ATx['Main_Females'].sum()],['Marginal Workers',dfmmr_ATx['Marg_T_Males'].sum(),dfmmr_ATx['Marg_T_Females'].sum()],['Non Workers',dfmmr_ATx['NW_T_Males'].sum(),dfmmr_ATx['NW_T_Females'].sum()])\n",
        "df_last=pd.DataFrame(data=data_last,columns=['Category','Males','Females'])\n",
        "\n",
        "df_last.head()"
      ],
      "metadata": {
        "colab": {
          "base_uri": "https://localhost:8080/",
          "height": 143
        },
        "id": "zaGtDq3Hx3DK",
        "outputId": "d14362ab-6ce5-47f1-d619-86ad701e3909"
      },
      "execution_count": 125,
      "outputs": [
        {
          "output_type": "execute_result",
          "data": {
            "text/plain": [
              "           Category      Males     Females\n",
              "0      Main Workers  7179828.0   2149919.0\n",
              "1  Marginal Workers  1271741.0   1017575.0\n",
              "2       Non Workers  7575843.0  14211155.0"
            ],
            "text/html": [
              "\n",
              "  <div id=\"df-c8da9abb-93d3-4d30-97ad-a6c0f42857c9\">\n",
              "    <div class=\"colab-df-container\">\n",
              "      <div>\n",
              "<style scoped>\n",
              "    .dataframe tbody tr th:only-of-type {\n",
              "        vertical-align: middle;\n",
              "    }\n",
              "\n",
              "    .dataframe tbody tr th {\n",
              "        vertical-align: top;\n",
              "    }\n",
              "\n",
              "    .dataframe thead th {\n",
              "        text-align: right;\n",
              "    }\n",
              "</style>\n",
              "<table border=\"1\" class=\"dataframe\">\n",
              "  <thead>\n",
              "    <tr style=\"text-align: right;\">\n",
              "      <th></th>\n",
              "      <th>Category</th>\n",
              "      <th>Males</th>\n",
              "      <th>Females</th>\n",
              "    </tr>\n",
              "  </thead>\n",
              "  <tbody>\n",
              "    <tr>\n",
              "      <th>0</th>\n",
              "      <td>Main Workers</td>\n",
              "      <td>7179828.0</td>\n",
              "      <td>2149919.0</td>\n",
              "    </tr>\n",
              "    <tr>\n",
              "      <th>1</th>\n",
              "      <td>Marginal Workers</td>\n",
              "      <td>1271741.0</td>\n",
              "      <td>1017575.0</td>\n",
              "    </tr>\n",
              "    <tr>\n",
              "      <th>2</th>\n",
              "      <td>Non Workers</td>\n",
              "      <td>7575843.0</td>\n",
              "      <td>14211155.0</td>\n",
              "    </tr>\n",
              "  </tbody>\n",
              "</table>\n",
              "</div>\n",
              "      <button class=\"colab-df-convert\" onclick=\"convertToInteractive('df-c8da9abb-93d3-4d30-97ad-a6c0f42857c9')\"\n",
              "              title=\"Convert this dataframe to an interactive table.\"\n",
              "              style=\"display:none;\">\n",
              "        \n",
              "  <svg xmlns=\"http://www.w3.org/2000/svg\" height=\"24px\"viewBox=\"0 0 24 24\"\n",
              "       width=\"24px\">\n",
              "    <path d=\"M0 0h24v24H0V0z\" fill=\"none\"/>\n",
              "    <path d=\"M18.56 5.44l.94 2.06.94-2.06 2.06-.94-2.06-.94-.94-2.06-.94 2.06-2.06.94zm-11 1L8.5 8.5l.94-2.06 2.06-.94-2.06-.94L8.5 2.5l-.94 2.06-2.06.94zm10 10l.94 2.06.94-2.06 2.06-.94-2.06-.94-.94-2.06-.94 2.06-2.06.94z\"/><path d=\"M17.41 7.96l-1.37-1.37c-.4-.4-.92-.59-1.43-.59-.52 0-1.04.2-1.43.59L10.3 9.45l-7.72 7.72c-.78.78-.78 2.05 0 2.83L4 21.41c.39.39.9.59 1.41.59.51 0 1.02-.2 1.41-.59l7.78-7.78 2.81-2.81c.8-.78.8-2.07 0-2.86zM5.41 20L4 18.59l7.72-7.72 1.47 1.35L5.41 20z\"/>\n",
              "  </svg>\n",
              "      </button>\n",
              "      \n",
              "  <style>\n",
              "    .colab-df-container {\n",
              "      display:flex;\n",
              "      flex-wrap:wrap;\n",
              "      gap: 12px;\n",
              "    }\n",
              "\n",
              "    .colab-df-convert {\n",
              "      background-color: #E8F0FE;\n",
              "      border: none;\n",
              "      border-radius: 50%;\n",
              "      cursor: pointer;\n",
              "      display: none;\n",
              "      fill: #1967D2;\n",
              "      height: 32px;\n",
              "      padding: 0 0 0 0;\n",
              "      width: 32px;\n",
              "    }\n",
              "\n",
              "    .colab-df-convert:hover {\n",
              "      background-color: #E2EBFA;\n",
              "      box-shadow: 0px 1px 2px rgba(60, 64, 67, 0.3), 0px 1px 3px 1px rgba(60, 64, 67, 0.15);\n",
              "      fill: #174EA6;\n",
              "    }\n",
              "\n",
              "    [theme=dark] .colab-df-convert {\n",
              "      background-color: #3B4455;\n",
              "      fill: #D2E3FC;\n",
              "    }\n",
              "\n",
              "    [theme=dark] .colab-df-convert:hover {\n",
              "      background-color: #434B5C;\n",
              "      box-shadow: 0px 1px 3px 1px rgba(0, 0, 0, 0.15);\n",
              "      filter: drop-shadow(0px 1px 2px rgba(0, 0, 0, 0.3));\n",
              "      fill: #FFFFFF;\n",
              "    }\n",
              "  </style>\n",
              "\n",
              "      <script>\n",
              "        const buttonEl =\n",
              "          document.querySelector('#df-c8da9abb-93d3-4d30-97ad-a6c0f42857c9 button.colab-df-convert');\n",
              "        buttonEl.style.display =\n",
              "          google.colab.kernel.accessAllowed ? 'block' : 'none';\n",
              "\n",
              "        async function convertToInteractive(key) {\n",
              "          const element = document.querySelector('#df-c8da9abb-93d3-4d30-97ad-a6c0f42857c9');\n",
              "          const dataTable =\n",
              "            await google.colab.kernel.invokeFunction('convertToInteractive',\n",
              "                                                     [key], {});\n",
              "          if (!dataTable) return;\n",
              "\n",
              "          const docLinkHtml = 'Like what you see? Visit the ' +\n",
              "            '<a target=\"_blank\" href=https://colab.research.google.com/notebooks/data_table.ipynb>data table notebook</a>'\n",
              "            + ' to learn more about interactive tables.';\n",
              "          element.innerHTML = '';\n",
              "          dataTable['output_type'] = 'display_data';\n",
              "          await google.colab.output.renderOutput(dataTable, element);\n",
              "          const docLink = document.createElement('div');\n",
              "          docLink.innerHTML = docLinkHtml;\n",
              "          element.appendChild(docLink);\n",
              "        }\n",
              "      </script>\n",
              "    </div>\n",
              "  </div>\n",
              "  "
            ]
          },
          "metadata": {},
          "execution_count": 125
        }
      ]
    },
    {
      "cell_type": "code",
      "source": [
        "#lets visualise the above dataframe\n",
        "\n",
        "df_last.plot(kind='bar',x='Category',y=['Males','Females'], stacked=True)\n",
        "\n",
        "plt.title('Distribution of Occupational Categories by Gender',fontweight='bold',y=1.08)\n",
        "plt.xlabel('Category',fontweight='bold')\n",
        "plt.ylabel('Worker Population(in ten millions)',fontweight='bold')"
      ],
      "metadata": {
        "colab": {
          "base_uri": "https://localhost:8080/",
          "height": 407
        },
        "id": "Z3NeumyQw--5",
        "outputId": "77574005-ddbe-487a-ca50-ee1260f9f64f"
      },
      "execution_count": 126,
      "outputs": [
        {
          "output_type": "execute_result",
          "data": {
            "text/plain": [
              "Text(0, 0.5, 'Worker Population(in ten millions)')"
            ]
          },
          "metadata": {},
          "execution_count": 126
        },
        {
          "output_type": "display_data",
          "data": {
            "text/plain": [
              "<Figure size 432x288 with 1 Axes>"
            ],
            "image/png": "[encoded data removed]"
          },
          "metadata": {
            "needs_background": "light"
          }
        }
      ]
    }
  ]
}